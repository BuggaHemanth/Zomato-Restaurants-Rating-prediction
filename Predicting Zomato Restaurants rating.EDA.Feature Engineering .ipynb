{
 "cells": [
  {
   "cell_type": "code",
   "execution_count": 1,
   "metadata": {},
   "outputs": [],
   "source": [
    "import numpy as np\n",
    "import pandas as pd\n",
    "import seaborn as sns"
   ]
  },
  {
   "cell_type": "code",
   "execution_count": 2,
   "metadata": {},
   "outputs": [
    {
     "name": "stdout",
     "output_type": "stream",
     "text": [
      "(9551, 21)\n",
      "(15, 3)\n"
     ]
    }
   ],
   "source": [
    "a=pd.read_csv('zomato.csv')\n",
    "b=pd.read_csv('Country-code.csv')\n",
    "print(a.shape)\n",
    "print(b.shape)"
   ]
  },
  {
   "cell_type": "markdown",
   "metadata": {},
   "source": [
    "### Data is available in the form of two separate files. So, we combine them using merge function"
   ]
  },
  {
   "cell_type": "code",
   "execution_count": 3,
   "metadata": {},
   "outputs": [
    {
     "data": {
      "text/plain": [
       "(9551, 23)"
      ]
     },
     "execution_count": 3,
     "metadata": {},
     "output_type": "execute_result"
    }
   ],
   "source": [
    "data=pd.merge(a,b,how='inner')\n",
    "data.shape"
   ]
  },
  {
   "cell_type": "code",
   "execution_count": 4,
   "metadata": {},
   "outputs": [
    {
     "data": {
      "text/html": [
       "<div>\n",
       "<style scoped>\n",
       "    .dataframe tbody tr th:only-of-type {\n",
       "        vertical-align: middle;\n",
       "    }\n",
       "\n",
       "    .dataframe tbody tr th {\n",
       "        vertical-align: top;\n",
       "    }\n",
       "\n",
       "    .dataframe thead th {\n",
       "        text-align: right;\n",
       "    }\n",
       "</style>\n",
       "<table border=\"1\" class=\"dataframe\">\n",
       "  <thead>\n",
       "    <tr style=\"text-align: right;\">\n",
       "      <th></th>\n",
       "      <th>Restaurant ID</th>\n",
       "      <th>Restaurant Name</th>\n",
       "      <th>Country Code</th>\n",
       "      <th>City</th>\n",
       "      <th>Address</th>\n",
       "      <th>Locality</th>\n",
       "      <th>Locality Verbose</th>\n",
       "      <th>Longitude</th>\n",
       "      <th>Latitude</th>\n",
       "      <th>Cuisines</th>\n",
       "      <th>...</th>\n",
       "      <th>Has Online delivery</th>\n",
       "      <th>Is delivering now</th>\n",
       "      <th>Switch to order menu</th>\n",
       "      <th>Price range</th>\n",
       "      <th>Aggregate rating</th>\n",
       "      <th>Rating color</th>\n",
       "      <th>Rating text</th>\n",
       "      <th>Votes</th>\n",
       "      <th>Country</th>\n",
       "      <th>Continent</th>\n",
       "    </tr>\n",
       "  </thead>\n",
       "  <tbody>\n",
       "    <tr>\n",
       "      <th>0</th>\n",
       "      <td>6317637</td>\n",
       "      <td>Le Petit Souffle</td>\n",
       "      <td>162</td>\n",
       "      <td>Makati City</td>\n",
       "      <td>Third Floor, Century City Mall, Kalayaan Avenu...</td>\n",
       "      <td>Century City Mall, Poblacion, Makati City</td>\n",
       "      <td>Century City Mall, Poblacion, Makati City, Mak...</td>\n",
       "      <td>121.027535</td>\n",
       "      <td>14.565443</td>\n",
       "      <td>French, Japanese, Desserts</td>\n",
       "      <td>...</td>\n",
       "      <td>No</td>\n",
       "      <td>No</td>\n",
       "      <td>No</td>\n",
       "      <td>3</td>\n",
       "      <td>4.8</td>\n",
       "      <td>Dark Green</td>\n",
       "      <td>Excellent</td>\n",
       "      <td>314</td>\n",
       "      <td>Phillipines</td>\n",
       "      <td>Asia</td>\n",
       "    </tr>\n",
       "    <tr>\n",
       "      <th>1</th>\n",
       "      <td>6304287</td>\n",
       "      <td>Izakaya Kikufuji</td>\n",
       "      <td>162</td>\n",
       "      <td>Makati City</td>\n",
       "      <td>Little Tokyo, 2277 Chino Roces Avenue, Legaspi...</td>\n",
       "      <td>Little Tokyo, Legaspi Village, Makati City</td>\n",
       "      <td>Little Tokyo, Legaspi Village, Makati City, Ma...</td>\n",
       "      <td>121.014101</td>\n",
       "      <td>14.553708</td>\n",
       "      <td>Japanese</td>\n",
       "      <td>...</td>\n",
       "      <td>No</td>\n",
       "      <td>No</td>\n",
       "      <td>No</td>\n",
       "      <td>3</td>\n",
       "      <td>4.5</td>\n",
       "      <td>Dark Green</td>\n",
       "      <td>Excellent</td>\n",
       "      <td>591</td>\n",
       "      <td>Phillipines</td>\n",
       "      <td>Asia</td>\n",
       "    </tr>\n",
       "    <tr>\n",
       "      <th>2</th>\n",
       "      <td>6300002</td>\n",
       "      <td>Heat - Edsa Shangri-La</td>\n",
       "      <td>162</td>\n",
       "      <td>Mandaluyong City</td>\n",
       "      <td>Edsa Shangri-La, 1 Garden Way, Ortigas, Mandal...</td>\n",
       "      <td>Edsa Shangri-La, Ortigas, Mandaluyong City</td>\n",
       "      <td>Edsa Shangri-La, Ortigas, Mandaluyong City, Ma...</td>\n",
       "      <td>121.056831</td>\n",
       "      <td>14.581404</td>\n",
       "      <td>Seafood, Asian, Filipino, Indian</td>\n",
       "      <td>...</td>\n",
       "      <td>No</td>\n",
       "      <td>No</td>\n",
       "      <td>No</td>\n",
       "      <td>4</td>\n",
       "      <td>4.4</td>\n",
       "      <td>Green</td>\n",
       "      <td>Very Good</td>\n",
       "      <td>270</td>\n",
       "      <td>Phillipines</td>\n",
       "      <td>Asia</td>\n",
       "    </tr>\n",
       "    <tr>\n",
       "      <th>3</th>\n",
       "      <td>6318506</td>\n",
       "      <td>Ooma</td>\n",
       "      <td>162</td>\n",
       "      <td>Mandaluyong City</td>\n",
       "      <td>Third Floor, Mega Fashion Hall, SM Megamall, O...</td>\n",
       "      <td>SM Megamall, Ortigas, Mandaluyong City</td>\n",
       "      <td>SM Megamall, Ortigas, Mandaluyong City, Mandal...</td>\n",
       "      <td>121.056475</td>\n",
       "      <td>14.585318</td>\n",
       "      <td>Japanese, Sushi</td>\n",
       "      <td>...</td>\n",
       "      <td>No</td>\n",
       "      <td>No</td>\n",
       "      <td>No</td>\n",
       "      <td>4</td>\n",
       "      <td>4.9</td>\n",
       "      <td>Dark Green</td>\n",
       "      <td>Excellent</td>\n",
       "      <td>365</td>\n",
       "      <td>Phillipines</td>\n",
       "      <td>Asia</td>\n",
       "    </tr>\n",
       "    <tr>\n",
       "      <th>4</th>\n",
       "      <td>6314302</td>\n",
       "      <td>Sambo Kojin</td>\n",
       "      <td>162</td>\n",
       "      <td>Mandaluyong City</td>\n",
       "      <td>Third Floor, Mega Atrium, SM Megamall, Ortigas...</td>\n",
       "      <td>SM Megamall, Ortigas, Mandaluyong City</td>\n",
       "      <td>SM Megamall, Ortigas, Mandaluyong City, Mandal...</td>\n",
       "      <td>121.057508</td>\n",
       "      <td>14.584450</td>\n",
       "      <td>Japanese, Korean</td>\n",
       "      <td>...</td>\n",
       "      <td>No</td>\n",
       "      <td>No</td>\n",
       "      <td>No</td>\n",
       "      <td>4</td>\n",
       "      <td>4.8</td>\n",
       "      <td>Dark Green</td>\n",
       "      <td>Excellent</td>\n",
       "      <td>229</td>\n",
       "      <td>Phillipines</td>\n",
       "      <td>Asia</td>\n",
       "    </tr>\n",
       "  </tbody>\n",
       "</table>\n",
       "<p>5 rows × 23 columns</p>\n",
       "</div>"
      ],
      "text/plain": [
       "   Restaurant ID         Restaurant Name  Country Code              City  \\\n",
       "0        6317637        Le Petit Souffle           162       Makati City   \n",
       "1        6304287        Izakaya Kikufuji           162       Makati City   \n",
       "2        6300002  Heat - Edsa Shangri-La           162  Mandaluyong City   \n",
       "3        6318506                    Ooma           162  Mandaluyong City   \n",
       "4        6314302             Sambo Kojin           162  Mandaluyong City   \n",
       "\n",
       "                                             Address  \\\n",
       "0  Third Floor, Century City Mall, Kalayaan Avenu...   \n",
       "1  Little Tokyo, 2277 Chino Roces Avenue, Legaspi...   \n",
       "2  Edsa Shangri-La, 1 Garden Way, Ortigas, Mandal...   \n",
       "3  Third Floor, Mega Fashion Hall, SM Megamall, O...   \n",
       "4  Third Floor, Mega Atrium, SM Megamall, Ortigas...   \n",
       "\n",
       "                                     Locality  \\\n",
       "0   Century City Mall, Poblacion, Makati City   \n",
       "1  Little Tokyo, Legaspi Village, Makati City   \n",
       "2  Edsa Shangri-La, Ortigas, Mandaluyong City   \n",
       "3      SM Megamall, Ortigas, Mandaluyong City   \n",
       "4      SM Megamall, Ortigas, Mandaluyong City   \n",
       "\n",
       "                                    Locality Verbose   Longitude   Latitude  \\\n",
       "0  Century City Mall, Poblacion, Makati City, Mak...  121.027535  14.565443   \n",
       "1  Little Tokyo, Legaspi Village, Makati City, Ma...  121.014101  14.553708   \n",
       "2  Edsa Shangri-La, Ortigas, Mandaluyong City, Ma...  121.056831  14.581404   \n",
       "3  SM Megamall, Ortigas, Mandaluyong City, Mandal...  121.056475  14.585318   \n",
       "4  SM Megamall, Ortigas, Mandaluyong City, Mandal...  121.057508  14.584450   \n",
       "\n",
       "                           Cuisines    ...     Has Online delivery  \\\n",
       "0        French, Japanese, Desserts    ...                      No   \n",
       "1                          Japanese    ...                      No   \n",
       "2  Seafood, Asian, Filipino, Indian    ...                      No   \n",
       "3                   Japanese, Sushi    ...                      No   \n",
       "4                  Japanese, Korean    ...                      No   \n",
       "\n",
       "  Is delivering now Switch to order menu Price range Aggregate rating  \\\n",
       "0                No                   No           3              4.8   \n",
       "1                No                   No           3              4.5   \n",
       "2                No                   No           4              4.4   \n",
       "3                No                   No           4              4.9   \n",
       "4                No                   No           4              4.8   \n",
       "\n",
       "  Rating color  Rating text  Votes      Country Continent  \n",
       "0   Dark Green    Excellent    314  Phillipines      Asia  \n",
       "1   Dark Green    Excellent    591  Phillipines      Asia  \n",
       "2        Green    Very Good    270  Phillipines      Asia  \n",
       "3   Dark Green    Excellent    365  Phillipines      Asia  \n",
       "4   Dark Green    Excellent    229  Phillipines      Asia  \n",
       "\n",
       "[5 rows x 23 columns]"
      ]
     },
     "execution_count": 4,
     "metadata": {},
     "output_type": "execute_result"
    }
   ],
   "source": [
    "data.head()"
   ]
  },
  {
   "cell_type": "code",
   "execution_count": 5,
   "metadata": {},
   "outputs": [
    {
     "data": {
      "text/plain": [
       "Restaurant ID           0\n",
       "Restaurant Name         0\n",
       "Country Code            0\n",
       "City                    0\n",
       "Address                 0\n",
       "Locality                0\n",
       "Locality Verbose        0\n",
       "Longitude               0\n",
       "Latitude                0\n",
       "Cuisines                9\n",
       "Average Cost for two    0\n",
       "Currency                0\n",
       "Has Table booking       0\n",
       "Has Online delivery     0\n",
       "Is delivering now       0\n",
       "Switch to order menu    0\n",
       "Price range             0\n",
       "Aggregate rating        0\n",
       "Rating color            0\n",
       "Rating text             0\n",
       "Votes                   0\n",
       "Country                 0\n",
       "Continent               0\n",
       "dtype: int64"
      ]
     },
     "execution_count": 5,
     "metadata": {},
     "output_type": "execute_result"
    }
   ],
   "source": [
    "data.isnull().sum()"
   ]
  },
  {
   "cell_type": "markdown",
   "metadata": {},
   "source": [
    "### There are 9 null values in the cuisines column which will be treated further"
   ]
  },
  {
   "cell_type": "code",
   "execution_count": 6,
   "metadata": {},
   "outputs": [
    {
     "data": {
      "text/plain": [
       "Index(['Restaurant ID', 'Restaurant Name', 'Country Code', 'City', 'Address',\n",
       "       'Locality', 'Locality Verbose', 'Longitude', 'Latitude', 'Cuisines',\n",
       "       'Average Cost for two', 'Currency', 'Has Table booking',\n",
       "       'Has Online delivery', 'Is delivering now', 'Switch to order menu',\n",
       "       'Price range', 'Aggregate rating', 'Rating color', 'Rating text',\n",
       "       'Votes', 'Country', 'Continent'],\n",
       "      dtype='object')"
      ]
     },
     "execution_count": 6,
     "metadata": {},
     "output_type": "execute_result"
    }
   ],
   "source": [
    "data.columns"
   ]
  },
  {
   "cell_type": "code",
   "execution_count": 7,
   "metadata": {},
   "outputs": [
    {
     "data": {
      "text/plain": [
       "No    9551\n",
       "Name: Switch to order menu, dtype: int64"
      ]
     },
     "execution_count": 7,
     "metadata": {},
     "output_type": "execute_result"
    }
   ],
   "source": [
    "data['Switch to order menu'].value_counts()"
   ]
  },
  {
   "cell_type": "markdown",
   "metadata": {},
   "source": [
    "### As we can see that switch to order is not presenet in any of the restaurants, it does not give much information"
   ]
  },
  {
   "cell_type": "code",
   "execution_count": 8,
   "metadata": {},
   "outputs": [
    {
     "data": {
      "text/plain": [
       "Orange        3737\n",
       "White         2148\n",
       "Yellow        2100\n",
       "Green         1079\n",
       "Dark Green     301\n",
       "Red            186\n",
       "Name: Rating color, dtype: int64"
      ]
     },
     "execution_count": 8,
     "metadata": {},
     "output_type": "execute_result"
    }
   ],
   "source": [
    "data['Rating color'].value_counts()"
   ]
  },
  {
   "cell_type": "code",
   "execution_count": 9,
   "metadata": {},
   "outputs": [
    {
     "data": {
      "text/plain": [
       "Average      3737\n",
       "Not rated    2148\n",
       "Good         2100\n",
       "Very Good    1079\n",
       "Excellent     301\n",
       "Poor          186\n",
       "Name: Rating text, dtype: int64"
      ]
     },
     "execution_count": 9,
     "metadata": {},
     "output_type": "execute_result"
    }
   ],
   "source": [
    "data['Rating text'].value_counts()"
   ]
  },
  {
   "cell_type": "markdown",
   "metadata": {},
   "source": [
    "### From the above 2 cells, we can see that Rating text and Rating color are representing the same thing in a different format. So, we can delete either of the columns."
   ]
  },
  {
   "cell_type": "code",
   "execution_count": 10,
   "metadata": {},
   "outputs": [],
   "source": [
    "data.drop(['Country Code','Restaurant ID', 'Restaurant Name','Address','Locality','Locality Verbose','Longitude', 'Latitude', 'Switch to order menu','Rating color'],axis=1,inplace=True)"
   ]
  },
  {
   "cell_type": "code",
   "execution_count": 12,
   "metadata": {},
   "outputs": [],
   "source": [
    "data.columns=['City', 'Cuisines', 'Avg_cost', 'Currency',\n",
    "       'Table_booking', 'Online_delivery', 'Delivering_now',\n",
    "       'Price_range', 'Rating', 'Rating_text', 'Votes', 'Country',\n",
    "       'Continent']"
   ]
  },
  {
   "cell_type": "code",
   "execution_count": 13,
   "metadata": {},
   "outputs": [],
   "source": [
    "X=data.drop('Rating',axis=1)\n",
    "y=data['Rating']"
   ]
  },
  {
   "cell_type": "code",
   "execution_count": 14,
   "metadata": {},
   "outputs": [],
   "source": [
    "import statsmodels.formula.api as smf \n",
    "from sklearn.model_selection import train_test_split\n",
    "\n",
    "X_train, X_test, y_train, y_test = train_test_split(X, y, test_size=0.3, random_state=42)"
   ]
  },
  {
   "cell_type": "markdown",
   "metadata": {},
   "source": [
    "### Feature Engineering "
   ]
  },
  {
   "cell_type": "markdown",
   "metadata": {},
   "source": [
    "### Lets create a new feature which counts the number of cuisines that a restaurant offers. The column Cuisines has few hunderds of different cuisines and some of the same cuisines are written with different spellings. Hence, it is very difficult to rectify those. However, while building a model, when encoding will be done, it will be heavy on computing and also may lead to Curse of Dimensionality as the number of features will become few hundreds."
   ]
  },
  {
   "cell_type": "code",
   "execution_count": 15,
   "metadata": {},
   "outputs": [
    {
     "name": "stderr",
     "output_type": "stream",
     "text": [
      "C:\\Users\\Hemanth\\Anaconda3\\lib\\site-packages\\ipykernel_launcher.py:1: SettingWithCopyWarning: \n",
      "A value is trying to be set on a copy of a slice from a DataFrame.\n",
      "Try using .loc[row_indexer,col_indexer] = value instead\n",
      "\n",
      "See the caveats in the documentation: http://pandas.pydata.org/pandas-docs/stable/indexing.html#indexing-view-versus-copy\n",
      "  \"\"\"Entry point for launching an IPython kernel.\n"
     ]
    },
    {
     "data": {
      "text/html": [
       "<div>\n",
       "<style scoped>\n",
       "    .dataframe tbody tr th:only-of-type {\n",
       "        vertical-align: middle;\n",
       "    }\n",
       "\n",
       "    .dataframe tbody tr th {\n",
       "        vertical-align: top;\n",
       "    }\n",
       "\n",
       "    .dataframe thead th {\n",
       "        text-align: right;\n",
       "    }\n",
       "</style>\n",
       "<table border=\"1\" class=\"dataframe\">\n",
       "  <thead>\n",
       "    <tr style=\"text-align: right;\">\n",
       "      <th></th>\n",
       "      <th>City</th>\n",
       "      <th>Cuisines</th>\n",
       "      <th>Avg_cost</th>\n",
       "      <th>Currency</th>\n",
       "      <th>Table_booking</th>\n",
       "      <th>Online_delivery</th>\n",
       "      <th>Delivering_now</th>\n",
       "      <th>Price_range</th>\n",
       "      <th>Rating_text</th>\n",
       "      <th>Votes</th>\n",
       "      <th>Country</th>\n",
       "      <th>Continent</th>\n",
       "      <th>no_of_cuisines</th>\n",
       "    </tr>\n",
       "  </thead>\n",
       "  <tbody>\n",
       "    <tr>\n",
       "      <th>2629</th>\n",
       "      <td>New Delhi</td>\n",
       "      <td>North Indian, South Indian</td>\n",
       "      <td>500</td>\n",
       "      <td>Indian Rupees(Rs.)</td>\n",
       "      <td>No</td>\n",
       "      <td>No</td>\n",
       "      <td>No</td>\n",
       "      <td>2</td>\n",
       "      <td>Good</td>\n",
       "      <td>44</td>\n",
       "      <td>India</td>\n",
       "      <td>Asia</td>\n",
       "      <td>2.0</td>\n",
       "    </tr>\n",
       "    <tr>\n",
       "      <th>4685</th>\n",
       "      <td>New Delhi</td>\n",
       "      <td>Chinese, North Indian</td>\n",
       "      <td>500</td>\n",
       "      <td>Indian Rupees(Rs.)</td>\n",
       "      <td>No</td>\n",
       "      <td>No</td>\n",
       "      <td>No</td>\n",
       "      <td>2</td>\n",
       "      <td>Average</td>\n",
       "      <td>10</td>\n",
       "      <td>India</td>\n",
       "      <td>Asia</td>\n",
       "      <td>2.0</td>\n",
       "    </tr>\n",
       "    <tr>\n",
       "      <th>6159</th>\n",
       "      <td>New Delhi</td>\n",
       "      <td>Pizza</td>\n",
       "      <td>600</td>\n",
       "      <td>Indian Rupees(Rs.)</td>\n",
       "      <td>No</td>\n",
       "      <td>No</td>\n",
       "      <td>No</td>\n",
       "      <td>2</td>\n",
       "      <td>Not rated</td>\n",
       "      <td>0</td>\n",
       "      <td>India</td>\n",
       "      <td>Asia</td>\n",
       "      <td>1.0</td>\n",
       "    </tr>\n",
       "    <tr>\n",
       "      <th>9197</th>\n",
       "      <td>Surat</td>\n",
       "      <td>Chinese, Thai, Asian</td>\n",
       "      <td>800</td>\n",
       "      <td>Indian Rupees(Rs.)</td>\n",
       "      <td>No</td>\n",
       "      <td>No</td>\n",
       "      <td>No</td>\n",
       "      <td>3</td>\n",
       "      <td>Good</td>\n",
       "      <td>226</td>\n",
       "      <td>India</td>\n",
       "      <td>Asia</td>\n",
       "      <td>3.0</td>\n",
       "    </tr>\n",
       "    <tr>\n",
       "      <th>5605</th>\n",
       "      <td>New Delhi</td>\n",
       "      <td>North Indian</td>\n",
       "      <td>200</td>\n",
       "      <td>Indian Rupees(Rs.)</td>\n",
       "      <td>No</td>\n",
       "      <td>No</td>\n",
       "      <td>No</td>\n",
       "      <td>1</td>\n",
       "      <td>Not rated</td>\n",
       "      <td>0</td>\n",
       "      <td>India</td>\n",
       "      <td>Asia</td>\n",
       "      <td>1.0</td>\n",
       "    </tr>\n",
       "  </tbody>\n",
       "</table>\n",
       "</div>"
      ],
      "text/plain": [
       "           City                    Cuisines  Avg_cost            Currency  \\\n",
       "2629  New Delhi  North Indian, South Indian       500  Indian Rupees(Rs.)   \n",
       "4685  New Delhi       Chinese, North Indian       500  Indian Rupees(Rs.)   \n",
       "6159  New Delhi                       Pizza       600  Indian Rupees(Rs.)   \n",
       "9197      Surat        Chinese, Thai, Asian       800  Indian Rupees(Rs.)   \n",
       "5605  New Delhi                North Indian       200  Indian Rupees(Rs.)   \n",
       "\n",
       "     Table_booking Online_delivery Delivering_now  Price_range Rating_text  \\\n",
       "2629            No              No             No            2        Good   \n",
       "4685            No              No             No            2     Average   \n",
       "6159            No              No             No            2   Not rated   \n",
       "9197            No              No             No            3        Good   \n",
       "5605            No              No             No            1   Not rated   \n",
       "\n",
       "      Votes Country Continent  no_of_cuisines  \n",
       "2629     44   India      Asia             2.0  \n",
       "4685     10   India      Asia             2.0  \n",
       "6159      0   India      Asia             1.0  \n",
       "9197    226   India      Asia             3.0  \n",
       "5605      0   India      Asia             1.0  "
      ]
     },
     "execution_count": 15,
     "metadata": {},
     "output_type": "execute_result"
    }
   ],
   "source": [
    "X_train['no_of_cuisines'] = data.Cuisines.str.count(',')+1\n",
    "X_train.head()"
   ]
  },
  {
   "cell_type": "code",
   "execution_count": 16,
   "metadata": {},
   "outputs": [
    {
     "data": {
      "text/plain": [
       "City               0\n",
       "Cuisines           5\n",
       "Avg_cost           0\n",
       "Currency           0\n",
       "Table_booking      0\n",
       "Online_delivery    0\n",
       "Delivering_now     0\n",
       "Price_range        0\n",
       "Rating_text        0\n",
       "Votes              0\n",
       "Country            0\n",
       "Continent          0\n",
       "no_of_cuisines     5\n",
       "dtype: int64"
      ]
     },
     "execution_count": 16,
     "metadata": {},
     "output_type": "execute_result"
    }
   ],
   "source": [
    "X_train.isnull().sum()"
   ]
  },
  {
   "cell_type": "code",
   "execution_count": 17,
   "metadata": {},
   "outputs": [
    {
     "name": "stderr",
     "output_type": "stream",
     "text": [
      "C:\\Users\\Hemanth\\Anaconda3\\lib\\site-packages\\ipykernel_launcher.py:1: SettingWithCopyWarning: \n",
      "A value is trying to be set on a copy of a slice from a DataFrame.\n",
      "Try using .loc[row_indexer,col_indexer] = value instead\n",
      "\n",
      "See the caveats in the documentation: http://pandas.pydata.org/pandas-docs/stable/indexing.html#indexing-view-versus-copy\n",
      "  \"\"\"Entry point for launching an IPython kernel.\n"
     ]
    },
    {
     "data": {
      "text/html": [
       "<div>\n",
       "<style scoped>\n",
       "    .dataframe tbody tr th:only-of-type {\n",
       "        vertical-align: middle;\n",
       "    }\n",
       "\n",
       "    .dataframe tbody tr th {\n",
       "        vertical-align: top;\n",
       "    }\n",
       "\n",
       "    .dataframe thead th {\n",
       "        text-align: right;\n",
       "    }\n",
       "</style>\n",
       "<table border=\"1\" class=\"dataframe\">\n",
       "  <thead>\n",
       "    <tr style=\"text-align: right;\">\n",
       "      <th></th>\n",
       "      <th>City</th>\n",
       "      <th>Cuisines</th>\n",
       "      <th>Avg_cost</th>\n",
       "      <th>Currency</th>\n",
       "      <th>Table_booking</th>\n",
       "      <th>Online_delivery</th>\n",
       "      <th>Delivering_now</th>\n",
       "      <th>Price_range</th>\n",
       "      <th>Rating_text</th>\n",
       "      <th>Votes</th>\n",
       "      <th>Country</th>\n",
       "      <th>Continent</th>\n",
       "      <th>no_of_cuisines</th>\n",
       "    </tr>\n",
       "  </thead>\n",
       "  <tbody>\n",
       "    <tr>\n",
       "      <th>4731</th>\n",
       "      <td>New Delhi</td>\n",
       "      <td>North Indian</td>\n",
       "      <td>350</td>\n",
       "      <td>Indian Rupees(Rs.)</td>\n",
       "      <td>No</td>\n",
       "      <td>No</td>\n",
       "      <td>No</td>\n",
       "      <td>1</td>\n",
       "      <td>Poor</td>\n",
       "      <td>54</td>\n",
       "      <td>India</td>\n",
       "      <td>Asia</td>\n",
       "      <td>1.0</td>\n",
       "    </tr>\n",
       "    <tr>\n",
       "      <th>1468</th>\n",
       "      <td>Gurgaon</td>\n",
       "      <td>Mughlai, Hyderabadi</td>\n",
       "      <td>700</td>\n",
       "      <td>Indian Rupees(Rs.)</td>\n",
       "      <td>No</td>\n",
       "      <td>Yes</td>\n",
       "      <td>No</td>\n",
       "      <td>2</td>\n",
       "      <td>Very Good</td>\n",
       "      <td>84</td>\n",
       "      <td>India</td>\n",
       "      <td>Asia</td>\n",
       "      <td>2.0</td>\n",
       "    </tr>\n",
       "    <tr>\n",
       "      <th>9037</th>\n",
       "      <td>Noida</td>\n",
       "      <td>North Indian, Mughlai</td>\n",
       "      <td>550</td>\n",
       "      <td>Indian Rupees(Rs.)</td>\n",
       "      <td>No</td>\n",
       "      <td>No</td>\n",
       "      <td>No</td>\n",
       "      <td>2</td>\n",
       "      <td>Average</td>\n",
       "      <td>36</td>\n",
       "      <td>India</td>\n",
       "      <td>Asia</td>\n",
       "      <td>2.0</td>\n",
       "    </tr>\n",
       "    <tr>\n",
       "      <th>7866</th>\n",
       "      <td>New Delhi</td>\n",
       "      <td>Fast Food</td>\n",
       "      <td>200</td>\n",
       "      <td>Indian Rupees(Rs.)</td>\n",
       "      <td>No</td>\n",
       "      <td>Yes</td>\n",
       "      <td>No</td>\n",
       "      <td>1</td>\n",
       "      <td>Very Good</td>\n",
       "      <td>163</td>\n",
       "      <td>India</td>\n",
       "      <td>Asia</td>\n",
       "      <td>1.0</td>\n",
       "    </tr>\n",
       "    <tr>\n",
       "      <th>5570</th>\n",
       "      <td>New Delhi</td>\n",
       "      <td>North Indian, Mughlai</td>\n",
       "      <td>400</td>\n",
       "      <td>Indian Rupees(Rs.)</td>\n",
       "      <td>No</td>\n",
       "      <td>No</td>\n",
       "      <td>No</td>\n",
       "      <td>1</td>\n",
       "      <td>Good</td>\n",
       "      <td>14</td>\n",
       "      <td>India</td>\n",
       "      <td>Asia</td>\n",
       "      <td>2.0</td>\n",
       "    </tr>\n",
       "  </tbody>\n",
       "</table>\n",
       "</div>"
      ],
      "text/plain": [
       "           City               Cuisines  Avg_cost            Currency  \\\n",
       "4731  New Delhi           North Indian       350  Indian Rupees(Rs.)   \n",
       "1468    Gurgaon    Mughlai, Hyderabadi       700  Indian Rupees(Rs.)   \n",
       "9037      Noida  North Indian, Mughlai       550  Indian Rupees(Rs.)   \n",
       "7866  New Delhi              Fast Food       200  Indian Rupees(Rs.)   \n",
       "5570  New Delhi  North Indian, Mughlai       400  Indian Rupees(Rs.)   \n",
       "\n",
       "     Table_booking Online_delivery Delivering_now  Price_range Rating_text  \\\n",
       "4731            No              No             No            1        Poor   \n",
       "1468            No             Yes             No            2   Very Good   \n",
       "9037            No              No             No            2     Average   \n",
       "7866            No             Yes             No            1   Very Good   \n",
       "5570            No              No             No            1        Good   \n",
       "\n",
       "      Votes Country Continent  no_of_cuisines  \n",
       "4731     54   India      Asia             1.0  \n",
       "1468     84   India      Asia             2.0  \n",
       "9037     36   India      Asia             2.0  \n",
       "7866    163   India      Asia             1.0  \n",
       "5570     14   India      Asia             2.0  "
      ]
     },
     "execution_count": 17,
     "metadata": {},
     "output_type": "execute_result"
    }
   ],
   "source": [
    "X_test['no_of_cuisines'] = data.Cuisines.str.count(',')+1\n",
    "X_test.head()"
   ]
  },
  {
   "cell_type": "code",
   "execution_count": 18,
   "metadata": {},
   "outputs": [
    {
     "data": {
      "text/plain": [
       "City               0\n",
       "Cuisines           4\n",
       "Avg_cost           0\n",
       "Currency           0\n",
       "Table_booking      0\n",
       "Online_delivery    0\n",
       "Delivering_now     0\n",
       "Price_range        0\n",
       "Rating_text        0\n",
       "Votes              0\n",
       "Country            0\n",
       "Continent          0\n",
       "no_of_cuisines     4\n",
       "dtype: int64"
      ]
     },
     "execution_count": 18,
     "metadata": {},
     "output_type": "execute_result"
    }
   ],
   "source": [
    "X_test.isnull().sum()"
   ]
  },
  {
   "cell_type": "markdown",
   "metadata": {},
   "source": [
    "### We are going to drop the feature Cuisines because there are thousands of different cuisines in the dataset. It would be very heavy on processing when we do encoding. Instead, we can count the number of cuisines that restaurant offers. Hence, new column no_of_cuisines has been created. As there are 9 null values in the cuisisnes, there are also 9 null values in the no_of_cuisines feature."
   ]
  },
  {
   "cell_type": "code",
   "execution_count": 19,
   "metadata": {},
   "outputs": [
    {
     "data": {
      "text/html": [
       "<div>\n",
       "<style scoped>\n",
       "    .dataframe tbody tr th:only-of-type {\n",
       "        vertical-align: middle;\n",
       "    }\n",
       "\n",
       "    .dataframe tbody tr th {\n",
       "        vertical-align: top;\n",
       "    }\n",
       "\n",
       "    .dataframe thead th {\n",
       "        text-align: right;\n",
       "    }\n",
       "</style>\n",
       "<table border=\"1\" class=\"dataframe\">\n",
       "  <thead>\n",
       "    <tr style=\"text-align: right;\">\n",
       "      <th></th>\n",
       "      <th>City</th>\n",
       "      <th>Cuisines</th>\n",
       "      <th>Avg_cost</th>\n",
       "      <th>Currency</th>\n",
       "      <th>Table_booking</th>\n",
       "      <th>Online_delivery</th>\n",
       "      <th>Delivering_now</th>\n",
       "      <th>Price_range</th>\n",
       "      <th>Rating</th>\n",
       "      <th>Rating_text</th>\n",
       "      <th>Votes</th>\n",
       "      <th>Country</th>\n",
       "      <th>Continent</th>\n",
       "    </tr>\n",
       "  </thead>\n",
       "  <tbody>\n",
       "    <tr>\n",
       "      <th>84</th>\n",
       "      <td>Albany</td>\n",
       "      <td>NaN</td>\n",
       "      <td>0</td>\n",
       "      <td>Dollar($)</td>\n",
       "      <td>No</td>\n",
       "      <td>No</td>\n",
       "      <td>No</td>\n",
       "      <td>1</td>\n",
       "      <td>3.4</td>\n",
       "      <td>Average</td>\n",
       "      <td>34</td>\n",
       "      <td>United States</td>\n",
       "      <td>America</td>\n",
       "    </tr>\n",
       "    <tr>\n",
       "      <th>87</th>\n",
       "      <td>Albany</td>\n",
       "      <td>NaN</td>\n",
       "      <td>0</td>\n",
       "      <td>Dollar($)</td>\n",
       "      <td>No</td>\n",
       "      <td>No</td>\n",
       "      <td>No</td>\n",
       "      <td>1</td>\n",
       "      <td>3.4</td>\n",
       "      <td>Average</td>\n",
       "      <td>36</td>\n",
       "      <td>United States</td>\n",
       "      <td>America</td>\n",
       "    </tr>\n",
       "    <tr>\n",
       "      <th>94</th>\n",
       "      <td>Albany</td>\n",
       "      <td>NaN</td>\n",
       "      <td>10</td>\n",
       "      <td>Dollar($)</td>\n",
       "      <td>No</td>\n",
       "      <td>No</td>\n",
       "      <td>No</td>\n",
       "      <td>1</td>\n",
       "      <td>3.9</td>\n",
       "      <td>Good</td>\n",
       "      <td>160</td>\n",
       "      <td>United States</td>\n",
       "      <td>America</td>\n",
       "    </tr>\n",
       "    <tr>\n",
       "      <th>288</th>\n",
       "      <td>Gainesville</td>\n",
       "      <td>NaN</td>\n",
       "      <td>40</td>\n",
       "      <td>Dollar($)</td>\n",
       "      <td>No</td>\n",
       "      <td>No</td>\n",
       "      <td>No</td>\n",
       "      <td>3</td>\n",
       "      <td>3.9</td>\n",
       "      <td>Good</td>\n",
       "      <td>209</td>\n",
       "      <td>United States</td>\n",
       "      <td>America</td>\n",
       "    </tr>\n",
       "    <tr>\n",
       "      <th>312</th>\n",
       "      <td>Macon</td>\n",
       "      <td>NaN</td>\n",
       "      <td>40</td>\n",
       "      <td>Dollar($)</td>\n",
       "      <td>No</td>\n",
       "      <td>No</td>\n",
       "      <td>No</td>\n",
       "      <td>3</td>\n",
       "      <td>3.8</td>\n",
       "      <td>Good</td>\n",
       "      <td>102</td>\n",
       "      <td>United States</td>\n",
       "      <td>America</td>\n",
       "    </tr>\n",
       "    <tr>\n",
       "      <th>328</th>\n",
       "      <td>Miller</td>\n",
       "      <td>NaN</td>\n",
       "      <td>0</td>\n",
       "      <td>Dollar($)</td>\n",
       "      <td>No</td>\n",
       "      <td>No</td>\n",
       "      <td>No</td>\n",
       "      <td>1</td>\n",
       "      <td>3.4</td>\n",
       "      <td>Average</td>\n",
       "      <td>11</td>\n",
       "      <td>United States</td>\n",
       "      <td>America</td>\n",
       "    </tr>\n",
       "    <tr>\n",
       "      <th>349</th>\n",
       "      <td>Orlando</td>\n",
       "      <td>NaN</td>\n",
       "      <td>40</td>\n",
       "      <td>Dollar($)</td>\n",
       "      <td>No</td>\n",
       "      <td>No</td>\n",
       "      <td>No</td>\n",
       "      <td>3</td>\n",
       "      <td>4.4</td>\n",
       "      <td>Very Good</td>\n",
       "      <td>1158</td>\n",
       "      <td>United States</td>\n",
       "      <td>America</td>\n",
       "    </tr>\n",
       "    <tr>\n",
       "      <th>395</th>\n",
       "      <td>Rest of Hawaii</td>\n",
       "      <td>NaN</td>\n",
       "      <td>10</td>\n",
       "      <td>Dollar($)</td>\n",
       "      <td>No</td>\n",
       "      <td>No</td>\n",
       "      <td>No</td>\n",
       "      <td>1</td>\n",
       "      <td>4.7</td>\n",
       "      <td>Excellent</td>\n",
       "      <td>707</td>\n",
       "      <td>United States</td>\n",
       "      <td>America</td>\n",
       "    </tr>\n",
       "    <tr>\n",
       "      <th>432</th>\n",
       "      <td>Savannah</td>\n",
       "      <td>NaN</td>\n",
       "      <td>10</td>\n",
       "      <td>Dollar($)</td>\n",
       "      <td>No</td>\n",
       "      <td>No</td>\n",
       "      <td>No</td>\n",
       "      <td>1</td>\n",
       "      <td>3.9</td>\n",
       "      <td>Good</td>\n",
       "      <td>309</td>\n",
       "      <td>United States</td>\n",
       "      <td>America</td>\n",
       "    </tr>\n",
       "  </tbody>\n",
       "</table>\n",
       "</div>"
      ],
      "text/plain": [
       "               City Cuisines  Avg_cost   Currency Table_booking  \\\n",
       "84           Albany      NaN         0  Dollar($)            No   \n",
       "87           Albany      NaN         0  Dollar($)            No   \n",
       "94           Albany      NaN        10  Dollar($)            No   \n",
       "288     Gainesville      NaN        40  Dollar($)            No   \n",
       "312           Macon      NaN        40  Dollar($)            No   \n",
       "328          Miller      NaN         0  Dollar($)            No   \n",
       "349         Orlando      NaN        40  Dollar($)            No   \n",
       "395  Rest of Hawaii      NaN        10  Dollar($)            No   \n",
       "432        Savannah      NaN        10  Dollar($)            No   \n",
       "\n",
       "    Online_delivery Delivering_now  Price_range  Rating Rating_text  Votes  \\\n",
       "84               No             No            1     3.4     Average     34   \n",
       "87               No             No            1     3.4     Average     36   \n",
       "94               No             No            1     3.9        Good    160   \n",
       "288              No             No            3     3.9        Good    209   \n",
       "312              No             No            3     3.8        Good    102   \n",
       "328              No             No            1     3.4     Average     11   \n",
       "349              No             No            3     4.4   Very Good   1158   \n",
       "395              No             No            1     4.7   Excellent    707   \n",
       "432              No             No            1     3.9        Good    309   \n",
       "\n",
       "           Country Continent  \n",
       "84   United States   America  \n",
       "87   United States   America  \n",
       "94   United States   America  \n",
       "288  United States   America  \n",
       "312  United States   America  \n",
       "328  United States   America  \n",
       "349  United States   America  \n",
       "395  United States   America  \n",
       "432  United States   America  "
      ]
     },
     "execution_count": 19,
     "metadata": {},
     "output_type": "execute_result"
    }
   ],
   "source": [
    "data[data.Cuisines.isnull()==True]"
   ]
  },
  {
   "cell_type": "markdown",
   "metadata": {},
   "source": [
    "### From the above cell e can see that all the null values are from restuarants that are in Unitesd States."
   ]
  },
  {
   "cell_type": "code",
   "execution_count": 20,
   "metadata": {},
   "outputs": [
    {
     "data": {
      "text/plain": [
       "3.0    106\n",
       "2.0     98\n",
       "1.0     90\n",
       "4.0      1\n",
       "Name: no_of_cuisines, dtype: int64"
      ]
     },
     "execution_count": 20,
     "metadata": {},
     "output_type": "execute_result"
    }
   ],
   "source": [
    "X_train[X_train.Cuisines.isnull()==True]\n",
    "data2=X_train[X_train.Country=='United States']\n",
    "data2.no_of_cuisines.value_counts()"
   ]
  },
  {
   "cell_type": "code",
   "execution_count": 21,
   "metadata": {},
   "outputs": [
    {
     "data": {
      "text/plain": [
       "3.0    57\n",
       "1.0    43\n",
       "2.0    29\n",
       "4.0     1\n",
       "Name: no_of_cuisines, dtype: int64"
      ]
     },
     "execution_count": 21,
     "metadata": {},
     "output_type": "execute_result"
    }
   ],
   "source": [
    "X_test[X_test.Cuisines.isnull()==True]\n",
    "data3=X_test[X_test.Country=='United States']\n",
    "data3.no_of_cuisines.value_counts()"
   ]
  },
  {
   "cell_type": "markdown",
   "metadata": {},
   "source": [
    "### Since 3 number of cuisines is mode for United States in both train and test, lets impute the null values with 3 in both X_train and X-test dataframes "
   ]
  },
  {
   "cell_type": "code",
   "execution_count": 22,
   "metadata": {},
   "outputs": [
    {
     "name": "stderr",
     "output_type": "stream",
     "text": [
      "C:\\Users\\Hemanth\\Anaconda3\\lib\\site-packages\\pandas\\core\\generic.py:5434: SettingWithCopyWarning: \n",
      "A value is trying to be set on a copy of a slice from a DataFrame\n",
      "\n",
      "See the caveats in the documentation: http://pandas.pydata.org/pandas-docs/stable/indexing.html#indexing-view-versus-copy\n",
      "  self._update_inplace(new_data)\n"
     ]
    }
   ],
   "source": [
    "X_train[\"no_of_cuisines\"].fillna(3, inplace = True)\n",
    "X_test[\"no_of_cuisines\"].fillna(3, inplace = True)"
   ]
  },
  {
   "cell_type": "code",
   "execution_count": 23,
   "metadata": {},
   "outputs": [
    {
     "data": {
      "text/plain": [
       "City               0\n",
       "Cuisines           9\n",
       "Avg_cost           0\n",
       "Currency           0\n",
       "Table_booking      0\n",
       "Online_delivery    0\n",
       "Delivering_now     0\n",
       "Price_range        0\n",
       "Rating             0\n",
       "Rating_text        0\n",
       "Votes              0\n",
       "Country            0\n",
       "Continent          0\n",
       "dtype: int64"
      ]
     },
     "execution_count": 23,
     "metadata": {},
     "output_type": "execute_result"
    }
   ],
   "source": [
    "data.isnull().sum()"
   ]
  },
  {
   "cell_type": "markdown",
   "metadata": {},
   "source": [
    "### Lets create a new feature named Continent which inlcudes respective countries that belong to a continent. This feature gives the model some extra information."
   ]
  },
  {
   "cell_type": "code",
   "execution_count": 24,
   "metadata": {},
   "outputs": [],
   "source": [
    "def continent (x):\n",
    "    if (x in ['United States','Canada','Brazil']):\n",
    "        return ('Americas')\n",
    "    elif (x in ['India','Phillipines','Sri Lanka','UAE' ,'Indonesia' ,'Qatar','Singapore']):\n",
    "        return ('Asia')\n",
    "    elif (x in ['Australia','New Zealand']):\n",
    "        return ('Australia_continent')\n",
    "    elif (x in ['Turkey','United Kingdom']):\n",
    "        return ('Europe')\n",
    "    else:\n",
    "        return ('Africa')"
   ]
  },
  {
   "cell_type": "code",
   "execution_count": 25,
   "metadata": {},
   "outputs": [
    {
     "name": "stderr",
     "output_type": "stream",
     "text": [
      "C:\\Users\\Hemanth\\Anaconda3\\lib\\site-packages\\ipykernel_launcher.py:1: SettingWithCopyWarning: \n",
      "A value is trying to be set on a copy of a slice from a DataFrame.\n",
      "Try using .loc[row_indexer,col_indexer] = value instead\n",
      "\n",
      "See the caveats in the documentation: http://pandas.pydata.org/pandas-docs/stable/indexing.html#indexing-view-versus-copy\n",
      "  \"\"\"Entry point for launching an IPython kernel.\n",
      "C:\\Users\\Hemanth\\Anaconda3\\lib\\site-packages\\ipykernel_launcher.py:2: SettingWithCopyWarning: \n",
      "A value is trying to be set on a copy of a slice from a DataFrame.\n",
      "Try using .loc[row_indexer,col_indexer] = value instead\n",
      "\n",
      "See the caveats in the documentation: http://pandas.pydata.org/pandas-docs/stable/indexing.html#indexing-view-versus-copy\n",
      "  \n"
     ]
    }
   ],
   "source": [
    "X_train['Continent']=X_train['Country'].apply(continent)\n",
    "X_test['Continent']=X_test['Country'].apply(continent)"
   ]
  },
  {
   "cell_type": "code",
   "execution_count": 26,
   "metadata": {},
   "outputs": [
    {
     "data": {
      "text/plain": [
       "<matplotlib.axes._subplots.AxesSubplot at 0x1fe14df6c50>"
      ]
     },
     "execution_count": 26,
     "metadata": {},
     "output_type": "execute_result"
    },
    {
     "data": {
      "image/png": "[encoded data removed]",
      "text/plain": [
       "<Figure size 1000x600 with 1 Axes>"
      ]
     },
     "metadata": {
      "image/png": {
       "height": 498,
       "width": 937
      },
      "needs_background": "light"
     },
     "output_type": "display_data"
    }
   ],
   "source": [
    "import matplotlib.pyplot as plt\n",
    "import seaborn as sns\n",
    "%config InlineBackend.figure_format = 'retina'\n",
    "plt.figure(figsize=(8,5),dpi=100)\n",
    "data.groupby(['Country']).mean()['Avg_cost'].sort_values().plot(kind='barh',figsize=(10,6))"
   ]
  },
  {
   "cell_type": "markdown",
   "metadata": {},
   "source": [
    "### From the above plot, we can see that the cost in Indonesia is very high which is due to the amount they pay for food. In the given data, each country's average cost is mentioned in their respective currency. Lets standardize the currency unit to Dollar. Below conversion rates are according to Google on the day of writing this code"
   ]
  },
  {
   "cell_type": "code",
   "execution_count": 27,
   "metadata": {},
   "outputs": [],
   "source": [
    "d = {'Botswana Pula(P)':0.095, 'Brazilian Real(R$)':0.266,'Dollar($)':1,'Emirati Diram(AED)':0.272,\n",
    "    'Indian Rupees(Rs.)':0.014,'Indonesian Rupiah(IDR)':0.00007,'NewZealand($)':0.688,'Pounds(Œ£)':1.314,\n",
    "    'Qatari Rial(QR)':0.274,'Rand(R)':0.072,'Sri Lankan Rupee(LKR)':0.0055,'Turkish Lira(TL)':0.188}"
   ]
  },
  {
   "cell_type": "code",
   "execution_count": 28,
   "metadata": {},
   "outputs": [
    {
     "name": "stderr",
     "output_type": "stream",
     "text": [
      "C:\\Users\\Hemanth\\Anaconda3\\lib\\site-packages\\ipykernel_launcher.py:1: SettingWithCopyWarning: \n",
      "A value is trying to be set on a copy of a slice from a DataFrame.\n",
      "Try using .loc[row_indexer,col_indexer] = value instead\n",
      "\n",
      "See the caveats in the documentation: http://pandas.pydata.org/pandas-docs/stable/indexing.html#indexing-view-versus-copy\n",
      "  \"\"\"Entry point for launching an IPython kernel.\n",
      "C:\\Users\\Hemanth\\Anaconda3\\lib\\site-packages\\ipykernel_launcher.py:2: SettingWithCopyWarning: \n",
      "A value is trying to be set on a copy of a slice from a DataFrame.\n",
      "Try using .loc[row_indexer,col_indexer] = value instead\n",
      "\n",
      "See the caveats in the documentation: http://pandas.pydata.org/pandas-docs/stable/indexing.html#indexing-view-versus-copy\n",
      "  \n"
     ]
    }
   ],
   "source": [
    "X_train['New_cost'] = X_train['Avg_cost'] * X_train['Currency'].map(d)\n",
    "X_test['New_cost'] = X_test['Avg_cost'] * X_test['Currency'].map(d)"
   ]
  },
  {
   "cell_type": "code",
   "execution_count": 84,
   "metadata": {},
   "outputs": [
    {
     "ename": "KeyError",
     "evalue": "'Country'",
     "output_type": "error",
     "traceback": [
      "\u001b[1;31m---------------------------------------------------------------------------\u001b[0m",
      "\u001b[1;31mKeyError\u001b[0m                                  Traceback (most recent call last)",
      "\u001b[1;32m<ipython-input-84-79ee9e571fb5>\u001b[0m in \u001b[0;36m<module>\u001b[1;34m\u001b[0m\n\u001b[0;32m      1\u001b[0m \u001b[0mplt\u001b[0m\u001b[1;33m.\u001b[0m\u001b[0mfigure\u001b[0m\u001b[1;33m(\u001b[0m\u001b[0mfigsize\u001b[0m\u001b[1;33m=\u001b[0m\u001b[1;33m(\u001b[0m\u001b[1;36m8\u001b[0m\u001b[1;33m,\u001b[0m\u001b[1;36m5\u001b[0m\u001b[1;33m)\u001b[0m\u001b[1;33m,\u001b[0m\u001b[0mdpi\u001b[0m\u001b[1;33m=\u001b[0m\u001b[1;36m100\u001b[0m\u001b[1;33m)\u001b[0m\u001b[1;33m\u001b[0m\u001b[1;33m\u001b[0m\u001b[0m\n\u001b[1;32m----> 2\u001b[1;33m \u001b[0mX_train\u001b[0m\u001b[1;33m.\u001b[0m\u001b[0mgroupby\u001b[0m\u001b[1;33m(\u001b[0m\u001b[1;33m[\u001b[0m\u001b[1;34m'Country'\u001b[0m\u001b[1;33m]\u001b[0m\u001b[1;33m)\u001b[0m\u001b[1;33m.\u001b[0m\u001b[0mmean\u001b[0m\u001b[1;33m(\u001b[0m\u001b[1;33m)\u001b[0m\u001b[1;33m[\u001b[0m\u001b[1;34m'New_cost'\u001b[0m\u001b[1;33m]\u001b[0m\u001b[1;33m.\u001b[0m\u001b[0msort_values\u001b[0m\u001b[1;33m(\u001b[0m\u001b[1;33m)\u001b[0m\u001b[1;33m.\u001b[0m\u001b[0mplot\u001b[0m\u001b[1;33m(\u001b[0m\u001b[0mkind\u001b[0m\u001b[1;33m=\u001b[0m\u001b[1;34m'barh'\u001b[0m\u001b[1;33m,\u001b[0m\u001b[0mfigsize\u001b[0m\u001b[1;33m=\u001b[0m\u001b[1;33m(\u001b[0m\u001b[1;36m10\u001b[0m\u001b[1;33m,\u001b[0m\u001b[1;36m6\u001b[0m\u001b[1;33m)\u001b[0m\u001b[1;33m)\u001b[0m\u001b[1;33m\u001b[0m\u001b[1;33m\u001b[0m\u001b[0m\n\u001b[0m",
      "\u001b[1;32m~\\Anaconda3\\lib\\site-packages\\pandas\\core\\generic.py\u001b[0m in \u001b[0;36mgroupby\u001b[1;34m(self, by, axis, level, as_index, sort, group_keys, squeeze, observed, **kwargs)\u001b[0m\n\u001b[0;32m   6663\u001b[0m         return groupby(self, by=by, axis=axis, level=level, as_index=as_index,\n\u001b[0;32m   6664\u001b[0m                        \u001b[0msort\u001b[0m\u001b[1;33m=\u001b[0m\u001b[0msort\u001b[0m\u001b[1;33m,\u001b[0m \u001b[0mgroup_keys\u001b[0m\u001b[1;33m=\u001b[0m\u001b[0mgroup_keys\u001b[0m\u001b[1;33m,\u001b[0m \u001b[0msqueeze\u001b[0m\u001b[1;33m=\u001b[0m\u001b[0msqueeze\u001b[0m\u001b[1;33m,\u001b[0m\u001b[1;33m\u001b[0m\u001b[1;33m\u001b[0m\u001b[0m\n\u001b[1;32m-> 6665\u001b[1;33m                        observed=observed, **kwargs)\n\u001b[0m\u001b[0;32m   6666\u001b[0m \u001b[1;33m\u001b[0m\u001b[0m\n\u001b[0;32m   6667\u001b[0m     def asfreq(self, freq, method=None, how=None, normalize=False,\n",
      "\u001b[1;32m~\\Anaconda3\\lib\\site-packages\\pandas\\core\\groupby\\groupby.py\u001b[0m in \u001b[0;36mgroupby\u001b[1;34m(obj, by, **kwds)\u001b[0m\n\u001b[0;32m   2150\u001b[0m         \u001b[1;32mraise\u001b[0m \u001b[0mTypeError\u001b[0m\u001b[1;33m(\u001b[0m\u001b[1;34m'invalid type: %s'\u001b[0m \u001b[1;33m%\u001b[0m \u001b[0mtype\u001b[0m\u001b[1;33m(\u001b[0m\u001b[0mobj\u001b[0m\u001b[1;33m)\u001b[0m\u001b[1;33m)\u001b[0m\u001b[1;33m\u001b[0m\u001b[1;33m\u001b[0m\u001b[0m\n\u001b[0;32m   2151\u001b[0m \u001b[1;33m\u001b[0m\u001b[0m\n\u001b[1;32m-> 2152\u001b[1;33m     \u001b[1;32mreturn\u001b[0m \u001b[0mklass\u001b[0m\u001b[1;33m(\u001b[0m\u001b[0mobj\u001b[0m\u001b[1;33m,\u001b[0m \u001b[0mby\u001b[0m\u001b[1;33m,\u001b[0m \u001b[1;33m**\u001b[0m\u001b[0mkwds\u001b[0m\u001b[1;33m)\u001b[0m\u001b[1;33m\u001b[0m\u001b[1;33m\u001b[0m\u001b[0m\n\u001b[0m\u001b[0;32m   2153\u001b[0m \u001b[1;33m\u001b[0m\u001b[0m\n\u001b[0;32m   2154\u001b[0m \u001b[1;33m\u001b[0m\u001b[0m\n",
      "\u001b[1;32m~\\Anaconda3\\lib\\site-packages\\pandas\\core\\groupby\\groupby.py\u001b[0m in \u001b[0;36m__init__\u001b[1;34m(self, obj, keys, axis, level, grouper, exclusions, selection, as_index, sort, group_keys, squeeze, observed, **kwargs)\u001b[0m\n\u001b[0;32m    597\u001b[0m                                                     \u001b[0msort\u001b[0m\u001b[1;33m=\u001b[0m\u001b[0msort\u001b[0m\u001b[1;33m,\u001b[0m\u001b[1;33m\u001b[0m\u001b[1;33m\u001b[0m\u001b[0m\n\u001b[0;32m    598\u001b[0m                                                     \u001b[0mobserved\u001b[0m\u001b[1;33m=\u001b[0m\u001b[0mobserved\u001b[0m\u001b[1;33m,\u001b[0m\u001b[1;33m\u001b[0m\u001b[1;33m\u001b[0m\u001b[0m\n\u001b[1;32m--> 599\u001b[1;33m                                                     mutated=self.mutated)\n\u001b[0m\u001b[0;32m    600\u001b[0m \u001b[1;33m\u001b[0m\u001b[0m\n\u001b[0;32m    601\u001b[0m         \u001b[0mself\u001b[0m\u001b[1;33m.\u001b[0m\u001b[0mobj\u001b[0m \u001b[1;33m=\u001b[0m \u001b[0mobj\u001b[0m\u001b[1;33m\u001b[0m\u001b[1;33m\u001b[0m\u001b[0m\n",
      "\u001b[1;32m~\\Anaconda3\\lib\\site-packages\\pandas\\core\\groupby\\groupby.py\u001b[0m in \u001b[0;36m_get_grouper\u001b[1;34m(obj, key, axis, level, sort, observed, mutated, validate)\u001b[0m\n\u001b[0;32m   3289\u001b[0m                 \u001b[0min_axis\u001b[0m\u001b[1;33m,\u001b[0m \u001b[0mname\u001b[0m\u001b[1;33m,\u001b[0m \u001b[0mlevel\u001b[0m\u001b[1;33m,\u001b[0m \u001b[0mgpr\u001b[0m \u001b[1;33m=\u001b[0m \u001b[1;32mFalse\u001b[0m\u001b[1;33m,\u001b[0m \u001b[1;32mNone\u001b[0m\u001b[1;33m,\u001b[0m \u001b[0mgpr\u001b[0m\u001b[1;33m,\u001b[0m \u001b[1;32mNone\u001b[0m\u001b[1;33m\u001b[0m\u001b[1;33m\u001b[0m\u001b[0m\n\u001b[0;32m   3290\u001b[0m             \u001b[1;32melse\u001b[0m\u001b[1;33m:\u001b[0m\u001b[1;33m\u001b[0m\u001b[1;33m\u001b[0m\u001b[0m\n\u001b[1;32m-> 3291\u001b[1;33m                 \u001b[1;32mraise\u001b[0m \u001b[0mKeyError\u001b[0m\u001b[1;33m(\u001b[0m\u001b[0mgpr\u001b[0m\u001b[1;33m)\u001b[0m\u001b[1;33m\u001b[0m\u001b[1;33m\u001b[0m\u001b[0m\n\u001b[0m\u001b[0;32m   3292\u001b[0m         \u001b[1;32melif\u001b[0m \u001b[0misinstance\u001b[0m\u001b[1;33m(\u001b[0m\u001b[0mgpr\u001b[0m\u001b[1;33m,\u001b[0m \u001b[0mGrouper\u001b[0m\u001b[1;33m)\u001b[0m \u001b[1;32mand\u001b[0m \u001b[0mgpr\u001b[0m\u001b[1;33m.\u001b[0m\u001b[0mkey\u001b[0m \u001b[1;32mis\u001b[0m \u001b[1;32mnot\u001b[0m \u001b[1;32mNone\u001b[0m\u001b[1;33m:\u001b[0m\u001b[1;33m\u001b[0m\u001b[1;33m\u001b[0m\u001b[0m\n\u001b[0;32m   3293\u001b[0m             \u001b[1;31m# Add key to exclusions\u001b[0m\u001b[1;33m\u001b[0m\u001b[1;33m\u001b[0m\u001b[1;33m\u001b[0m\u001b[0m\n",
      "\u001b[1;31mKeyError\u001b[0m: 'Country'"
     ]
    },
    {
     "data": {
      "text/plain": [
       "<Figure size 800x500 with 0 Axes>"
      ]
     },
     "metadata": {},
     "output_type": "display_data"
    }
   ],
   "source": [
    "plt.figure(figsize=(8,5),dpi=100)\n",
    "X_train.groupby(['Country']).mean()['New_cost'].sort_values().plot(kind='barh',figsize=(10,6))"
   ]
  },
  {
   "cell_type": "markdown",
   "metadata": {},
   "source": [
    "### Now, after bringing all country's cost into Dollar, we can observe that Singapore has the expensive food while India has the least expensive food. "
   ]
  },
  {
   "cell_type": "code",
   "execution_count": 30,
   "metadata": {},
   "outputs": [
    {
     "data": {
      "text/plain": [
       "India             6070\n",
       "United States      300\n",
       "United Kingdom      57\n",
       "UAE                 42\n",
       "South Africa        38\n",
       "Brazil              33\n",
       "New Zealand         31\n",
       "Turkey              28\n",
       "Australia           15\n",
       "Qatar               15\n",
       "Indonesia           15\n",
       "Singapore           14\n",
       "Phillipines         14\n",
       "Sri Lanka           11\n",
       "Canada               2\n",
       "Name: Country, dtype: int64"
      ]
     },
     "execution_count": 30,
     "metadata": {},
     "output_type": "execute_result"
    }
   ],
   "source": [
    "X_train.Country.value_counts()"
   ]
  },
  {
   "cell_type": "code",
   "execution_count": 31,
   "metadata": {},
   "outputs": [
    {
     "data": {
      "text/plain": [
       "Asia                   6181\n",
       "Americas                335\n",
       "Europe                   85\n",
       "Australia_continent      46\n",
       "Africa                   38\n",
       "Name: Continent, dtype: int64"
      ]
     },
     "execution_count": 31,
     "metadata": {},
     "output_type": "execute_result"
    }
   ],
   "source": [
    "X_train.Continent.value_counts()"
   ]
  },
  {
   "cell_type": "code",
   "execution_count": 32,
   "metadata": {},
   "outputs": [
    {
     "data": {
      "text/html": [
       "<div>\n",
       "<style scoped>\n",
       "    .dataframe tbody tr th:only-of-type {\n",
       "        vertical-align: middle;\n",
       "    }\n",
       "\n",
       "    .dataframe tbody tr th {\n",
       "        vertical-align: top;\n",
       "    }\n",
       "\n",
       "    .dataframe thead th {\n",
       "        text-align: right;\n",
       "    }\n",
       "</style>\n",
       "<table border=\"1\" class=\"dataframe\">\n",
       "  <thead>\n",
       "    <tr style=\"text-align: right;\">\n",
       "      <th></th>\n",
       "      <th>City</th>\n",
       "      <th>Cuisines</th>\n",
       "      <th>Avg_cost</th>\n",
       "      <th>Currency</th>\n",
       "      <th>Table_booking</th>\n",
       "      <th>Online_delivery</th>\n",
       "      <th>Delivering_now</th>\n",
       "      <th>Price_range</th>\n",
       "      <th>Rating_text</th>\n",
       "      <th>Votes</th>\n",
       "      <th>Country</th>\n",
       "      <th>Continent</th>\n",
       "      <th>no_of_cuisines</th>\n",
       "      <th>New_cost</th>\n",
       "    </tr>\n",
       "  </thead>\n",
       "  <tbody>\n",
       "    <tr>\n",
       "      <th>2629</th>\n",
       "      <td>New Delhi</td>\n",
       "      <td>North Indian, South Indian</td>\n",
       "      <td>500</td>\n",
       "      <td>Indian Rupees(Rs.)</td>\n",
       "      <td>No</td>\n",
       "      <td>No</td>\n",
       "      <td>No</td>\n",
       "      <td>2</td>\n",
       "      <td>Good</td>\n",
       "      <td>44</td>\n",
       "      <td>India</td>\n",
       "      <td>Asia</td>\n",
       "      <td>2.0</td>\n",
       "      <td>7.0</td>\n",
       "    </tr>\n",
       "    <tr>\n",
       "      <th>4685</th>\n",
       "      <td>New Delhi</td>\n",
       "      <td>Chinese, North Indian</td>\n",
       "      <td>500</td>\n",
       "      <td>Indian Rupees(Rs.)</td>\n",
       "      <td>No</td>\n",
       "      <td>No</td>\n",
       "      <td>No</td>\n",
       "      <td>2</td>\n",
       "      <td>Average</td>\n",
       "      <td>10</td>\n",
       "      <td>India</td>\n",
       "      <td>Asia</td>\n",
       "      <td>2.0</td>\n",
       "      <td>7.0</td>\n",
       "    </tr>\n",
       "    <tr>\n",
       "      <th>6159</th>\n",
       "      <td>New Delhi</td>\n",
       "      <td>Pizza</td>\n",
       "      <td>600</td>\n",
       "      <td>Indian Rupees(Rs.)</td>\n",
       "      <td>No</td>\n",
       "      <td>No</td>\n",
       "      <td>No</td>\n",
       "      <td>2</td>\n",
       "      <td>Not rated</td>\n",
       "      <td>0</td>\n",
       "      <td>India</td>\n",
       "      <td>Asia</td>\n",
       "      <td>1.0</td>\n",
       "      <td>8.4</td>\n",
       "    </tr>\n",
       "    <tr>\n",
       "      <th>9197</th>\n",
       "      <td>Surat</td>\n",
       "      <td>Chinese, Thai, Asian</td>\n",
       "      <td>800</td>\n",
       "      <td>Indian Rupees(Rs.)</td>\n",
       "      <td>No</td>\n",
       "      <td>No</td>\n",
       "      <td>No</td>\n",
       "      <td>3</td>\n",
       "      <td>Good</td>\n",
       "      <td>226</td>\n",
       "      <td>India</td>\n",
       "      <td>Asia</td>\n",
       "      <td>3.0</td>\n",
       "      <td>11.2</td>\n",
       "    </tr>\n",
       "    <tr>\n",
       "      <th>5605</th>\n",
       "      <td>New Delhi</td>\n",
       "      <td>North Indian</td>\n",
       "      <td>200</td>\n",
       "      <td>Indian Rupees(Rs.)</td>\n",
       "      <td>No</td>\n",
       "      <td>No</td>\n",
       "      <td>No</td>\n",
       "      <td>1</td>\n",
       "      <td>Not rated</td>\n",
       "      <td>0</td>\n",
       "      <td>India</td>\n",
       "      <td>Asia</td>\n",
       "      <td>1.0</td>\n",
       "      <td>2.8</td>\n",
       "    </tr>\n",
       "  </tbody>\n",
       "</table>\n",
       "</div>"
      ],
      "text/plain": [
       "           City                    Cuisines  Avg_cost            Currency  \\\n",
       "2629  New Delhi  North Indian, South Indian       500  Indian Rupees(Rs.)   \n",
       "4685  New Delhi       Chinese, North Indian       500  Indian Rupees(Rs.)   \n",
       "6159  New Delhi                       Pizza       600  Indian Rupees(Rs.)   \n",
       "9197      Surat        Chinese, Thai, Asian       800  Indian Rupees(Rs.)   \n",
       "5605  New Delhi                North Indian       200  Indian Rupees(Rs.)   \n",
       "\n",
       "     Table_booking Online_delivery Delivering_now  Price_range Rating_text  \\\n",
       "2629            No              No             No            2        Good   \n",
       "4685            No              No             No            2     Average   \n",
       "6159            No              No             No            2   Not rated   \n",
       "9197            No              No             No            3        Good   \n",
       "5605            No              No             No            1   Not rated   \n",
       "\n",
       "      Votes Country Continent  no_of_cuisines  New_cost  \n",
       "2629     44   India      Asia             2.0       7.0  \n",
       "4685     10   India      Asia             2.0       7.0  \n",
       "6159      0   India      Asia             1.0       8.4  \n",
       "9197    226   India      Asia             3.0      11.2  \n",
       "5605      0   India      Asia             1.0       2.8  "
      ]
     },
     "execution_count": 32,
     "metadata": {},
     "output_type": "execute_result"
    }
   ],
   "source": [
    "X_train.head()"
   ]
  },
  {
   "cell_type": "markdown",
   "metadata": {},
   "source": [
    "### From the above two cells, we can observe that both the features rating_color and rating_text indicates the same thing. So, both features together does not give any extra information. Hence, rating color can be dropped."
   ]
  },
  {
   "cell_type": "code",
   "execution_count": 33,
   "metadata": {},
   "outputs": [
    {
     "data": {
      "text/plain": [
       "Index(['City', 'Cuisines', 'Avg_cost', 'Currency', 'Table_booking',\n",
       "       'Online_delivery', 'Delivering_now', 'Price_range', 'Rating_text',\n",
       "       'Votes', 'Country', 'Continent', 'no_of_cuisines', 'New_cost'],\n",
       "      dtype='object')"
      ]
     },
     "execution_count": 33,
     "metadata": {},
     "output_type": "execute_result"
    }
   ],
   "source": [
    "X_train.columns"
   ]
  },
  {
   "cell_type": "code",
   "execution_count": 34,
   "metadata": {},
   "outputs": [
    {
     "name": "stderr",
     "output_type": "stream",
     "text": [
      "C:\\Users\\Hemanth\\Anaconda3\\lib\\site-packages\\pandas\\core\\generic.py:4405: SettingWithCopyWarning: \n",
      "A value is trying to be set on a copy of a slice from a DataFrame.\n",
      "Try using .loc[row_indexer,col_indexer] = value instead\n",
      "\n",
      "See the caveats in the documentation: http://pandas.pydata.org/pandas-docs/stable/indexing.html#indexing-view-versus-copy\n",
      "  self[name] = value\n"
     ]
    }
   ],
   "source": [
    "dictionary = {'Excellent': 5,'Very Good': 4,'Average': 2,'Good': 3,'Not rated': 2,'Poor': 1} \n",
    "X_train.Rating_text = [dictionary[item] for item in X_train.Rating_text] \n",
    "X_test.Rating_text = [dictionary[item] for item in X_test.Rating_text] "
   ]
  },
  {
   "cell_type": "code",
   "execution_count": 35,
   "metadata": {},
   "outputs": [],
   "source": [
    "Binary= {'Yes': 1,'No': 0} \n",
    "\n",
    "X_train.Online_delivery = [Binary[item] for item in X_train.Online_delivery] \n",
    "X_train.Table_booking = [Binary[item] for item in X_train.Table_booking] \n",
    "X_train.Delivering_now = [Binary[item] for item in X_train.Delivering_now] \n",
    "\n",
    "X_test.Online_delivery = [Binary[item] for item in X_test.Online_delivery] \n",
    "X_test.Table_booking = [Binary[item] for item in X_test.Table_booking] \n",
    "X_test.Delivering_now = [Binary[item] for item in X_test.Delivering_now] "
   ]
  },
  {
   "cell_type": "code",
   "execution_count": 36,
   "metadata": {},
   "outputs": [
    {
     "name": "stderr",
     "output_type": "stream",
     "text": [
      "C:\\Users\\Hemanth\\Anaconda3\\lib\\site-packages\\pandas\\core\\frame.py:3697: SettingWithCopyWarning: \n",
      "A value is trying to be set on a copy of a slice from a DataFrame\n",
      "\n",
      "See the caveats in the documentation: http://pandas.pydata.org/pandas-docs/stable/indexing.html#indexing-view-versus-copy\n",
      "  errors=errors)\n"
     ]
    }
   ],
   "source": [
    "X_train.drop(['Avg_cost','Cuisines','Currency','City'],axis=1,inplace=True)\n",
    "X_test.drop(['Avg_cost','Cuisines','Currency','City'],axis=1,inplace=True)"
   ]
  },
  {
   "cell_type": "code",
   "execution_count": 37,
   "metadata": {},
   "outputs": [
    {
     "name": "stdout",
     "output_type": "stream",
     "text": [
      "(6685, 10)\n",
      "(2866, 10)\n"
     ]
    }
   ],
   "source": [
    "print(X_train.shape)\n",
    "print(X_test.shape)"
   ]
  },
  {
   "cell_type": "code",
   "execution_count": 38,
   "metadata": {},
   "outputs": [
    {
     "data": {
      "text/plain": [
       "Table_booking      0\n",
       "Online_delivery    0\n",
       "Delivering_now     0\n",
       "Price_range        0\n",
       "Rating_text        0\n",
       "Votes              0\n",
       "Country            0\n",
       "Continent          0\n",
       "no_of_cuisines     0\n",
       "New_cost           0\n",
       "dtype: int64"
      ]
     },
     "execution_count": 38,
     "metadata": {},
     "output_type": "execute_result"
    }
   ],
   "source": [
    "X_train.isnull().sum()"
   ]
  },
  {
   "cell_type": "code",
   "execution_count": 39,
   "metadata": {},
   "outputs": [
    {
     "data": {
      "text/plain": [
       "0    6658\n",
       "1      27\n",
       "Name: Delivering_now, dtype: int64"
      ]
     },
     "execution_count": 39,
     "metadata": {},
     "output_type": "execute_result"
    }
   ],
   "source": [
    "X_train['Delivering_now'].value_counts()"
   ]
  },
  {
   "cell_type": "code",
   "execution_count": 40,
   "metadata": {},
   "outputs": [],
   "source": [
    "novotes=data.groupby('Country')"
   ]
  },
  {
   "cell_type": "code",
   "execution_count": 41,
   "metadata": {},
   "outputs": [
    {
     "data": {
      "text/html": [
       "<div>\n",
       "<style scoped>\n",
       "    .dataframe tbody tr th:only-of-type {\n",
       "        vertical-align: middle;\n",
       "    }\n",
       "\n",
       "    .dataframe tbody tr th {\n",
       "        vertical-align: top;\n",
       "    }\n",
       "\n",
       "    .dataframe thead th {\n",
       "        text-align: right;\n",
       "    }\n",
       "</style>\n",
       "<table border=\"1\" class=\"dataframe\">\n",
       "  <thead>\n",
       "    <tr style=\"text-align: right;\">\n",
       "      <th></th>\n",
       "      <th>Avg_cost</th>\n",
       "      <th>Price_range</th>\n",
       "      <th>Rating</th>\n",
       "      <th>Votes</th>\n",
       "    </tr>\n",
       "    <tr>\n",
       "      <th>Country</th>\n",
       "      <th></th>\n",
       "      <th></th>\n",
       "      <th></th>\n",
       "      <th></th>\n",
       "    </tr>\n",
       "  </thead>\n",
       "  <tbody>\n",
       "    <tr>\n",
       "      <th>Australia</th>\n",
       "      <td>24.083333</td>\n",
       "      <td>2.125000</td>\n",
       "      <td>3.658333</td>\n",
       "      <td>111.416667</td>\n",
       "    </tr>\n",
       "    <tr>\n",
       "      <th>Brazil</th>\n",
       "      <td>134.666667</td>\n",
       "      <td>3.400000</td>\n",
       "      <td>3.763333</td>\n",
       "      <td>19.616667</td>\n",
       "    </tr>\n",
       "    <tr>\n",
       "      <th>Canada</th>\n",
       "      <td>36.250000</td>\n",
       "      <td>2.500000</td>\n",
       "      <td>3.575000</td>\n",
       "      <td>103.000000</td>\n",
       "    </tr>\n",
       "    <tr>\n",
       "      <th>India</th>\n",
       "      <td>623.370319</td>\n",
       "      <td>1.721683</td>\n",
       "      <td>2.523324</td>\n",
       "      <td>137.212552</td>\n",
       "    </tr>\n",
       "    <tr>\n",
       "      <th>Indonesia</th>\n",
       "      <td>281190.476190</td>\n",
       "      <td>2.952381</td>\n",
       "      <td>4.295238</td>\n",
       "      <td>772.095238</td>\n",
       "    </tr>\n",
       "    <tr>\n",
       "      <th>New Zealand</th>\n",
       "      <td>69.750000</td>\n",
       "      <td>3.150000</td>\n",
       "      <td>4.262500</td>\n",
       "      <td>243.025000</td>\n",
       "    </tr>\n",
       "    <tr>\n",
       "      <th>Phillipines</th>\n",
       "      <td>1606.818182</td>\n",
       "      <td>3.363636</td>\n",
       "      <td>4.468182</td>\n",
       "      <td>407.409091</td>\n",
       "    </tr>\n",
       "    <tr>\n",
       "      <th>Qatar</th>\n",
       "      <td>223.750000</td>\n",
       "      <td>3.650000</td>\n",
       "      <td>4.060000</td>\n",
       "      <td>163.800000</td>\n",
       "    </tr>\n",
       "    <tr>\n",
       "      <th>Singapore</th>\n",
       "      <td>155.750000</td>\n",
       "      <td>3.650000</td>\n",
       "      <td>3.575000</td>\n",
       "      <td>31.900000</td>\n",
       "    </tr>\n",
       "    <tr>\n",
       "      <th>South Africa</th>\n",
       "      <td>419.733333</td>\n",
       "      <td>3.583333</td>\n",
       "      <td>4.210000</td>\n",
       "      <td>315.166667</td>\n",
       "    </tr>\n",
       "    <tr>\n",
       "      <th>Sri Lanka</th>\n",
       "      <td>2375.000000</td>\n",
       "      <td>2.850000</td>\n",
       "      <td>3.870000</td>\n",
       "      <td>146.450000</td>\n",
       "    </tr>\n",
       "    <tr>\n",
       "      <th>Turkey</th>\n",
       "      <td>84.852941</td>\n",
       "      <td>2.823529</td>\n",
       "      <td>4.300000</td>\n",
       "      <td>431.470588</td>\n",
       "    </tr>\n",
       "    <tr>\n",
       "      <th>UAE</th>\n",
       "      <td>166.416667</td>\n",
       "      <td>3.216667</td>\n",
       "      <td>4.233333</td>\n",
       "      <td>493.516667</td>\n",
       "    </tr>\n",
       "    <tr>\n",
       "      <th>United Kingdom</th>\n",
       "      <td>47.812500</td>\n",
       "      <td>2.750000</td>\n",
       "      <td>4.087500</td>\n",
       "      <td>205.487500</td>\n",
       "    </tr>\n",
       "    <tr>\n",
       "      <th>United States</th>\n",
       "      <td>26.152074</td>\n",
       "      <td>2.046083</td>\n",
       "      <td>4.004378</td>\n",
       "      <td>428.221198</td>\n",
       "    </tr>\n",
       "  </tbody>\n",
       "</table>\n",
       "</div>"
      ],
      "text/plain": [
       "                     Avg_cost  Price_range    Rating       Votes\n",
       "Country                                                         \n",
       "Australia           24.083333     2.125000  3.658333  111.416667\n",
       "Brazil             134.666667     3.400000  3.763333   19.616667\n",
       "Canada              36.250000     2.500000  3.575000  103.000000\n",
       "India              623.370319     1.721683  2.523324  137.212552\n",
       "Indonesia       281190.476190     2.952381  4.295238  772.095238\n",
       "New Zealand         69.750000     3.150000  4.262500  243.025000\n",
       "Phillipines       1606.818182     3.363636  4.468182  407.409091\n",
       "Qatar              223.750000     3.650000  4.060000  163.800000\n",
       "Singapore          155.750000     3.650000  3.575000   31.900000\n",
       "South Africa       419.733333     3.583333  4.210000  315.166667\n",
       "Sri Lanka         2375.000000     2.850000  3.870000  146.450000\n",
       "Turkey              84.852941     2.823529  4.300000  431.470588\n",
       "UAE                166.416667     3.216667  4.233333  493.516667\n",
       "United Kingdom      47.812500     2.750000  4.087500  205.487500\n",
       "United States       26.152074     2.046083  4.004378  428.221198"
      ]
     },
     "execution_count": 41,
     "metadata": {},
     "output_type": "execute_result"
    }
   ],
   "source": [
    "data.groupby(['Country']).mean()"
   ]
  },
  {
   "cell_type": "code",
   "execution_count": 42,
   "metadata": {},
   "outputs": [
    {
     "data": {
      "text/plain": [
       "<matplotlib.axes._subplots.AxesSubplot at 0x1fe16f87a58>"
      ]
     },
     "execution_count": 42,
     "metadata": {},
     "output_type": "execute_result"
    },
    {
     "data": {
      "image/png": "[encoded data removed]",
      "text/plain": [
       "<Figure size 1000x600 with 1 Axes>"
      ]
     },
     "metadata": {
      "image/png": {
       "height": 498,
       "width": 938
      },
      "needs_background": "light"
     },
     "output_type": "display_data"
    }
   ],
   "source": [
    "%config InlineBackend.figure_format = 'retina'\n",
    "df=data.groupby(['Country']).mean()\n",
    "plt.figure(figsize=(8,5),frameon=True,dpi=100)\n",
    "df['Votes'].sort_values().plot(kind='barh',figsize=(10,6))"
   ]
  },
  {
   "cell_type": "markdown",
   "metadata": {},
   "source": [
    "### Brazil has the least number of votes while Indonesia has the maximum"
   ]
  },
  {
   "cell_type": "code",
   "execution_count": 43,
   "metadata": {},
   "outputs": [
    {
     "data": {
      "text/html": [
       "<div>\n",
       "<style scoped>\n",
       "    .dataframe tbody tr th:only-of-type {\n",
       "        vertical-align: middle;\n",
       "    }\n",
       "\n",
       "    .dataframe tbody tr th {\n",
       "        vertical-align: top;\n",
       "    }\n",
       "\n",
       "    .dataframe thead th {\n",
       "        text-align: right;\n",
       "    }\n",
       "</style>\n",
       "<table border=\"1\" class=\"dataframe\">\n",
       "  <thead>\n",
       "    <tr style=\"text-align: right;\">\n",
       "      <th></th>\n",
       "      <th>Avg_cost</th>\n",
       "      <th>Price_range</th>\n",
       "      <th>Rating</th>\n",
       "      <th>Votes</th>\n",
       "    </tr>\n",
       "    <tr>\n",
       "      <th>Country</th>\n",
       "      <th></th>\n",
       "      <th></th>\n",
       "      <th></th>\n",
       "      <th></th>\n",
       "    </tr>\n",
       "  </thead>\n",
       "  <tbody>\n",
       "    <tr>\n",
       "      <th>Australia</th>\n",
       "      <td>24.083333</td>\n",
       "      <td>2.125000</td>\n",
       "      <td>3.658333</td>\n",
       "      <td>111.416667</td>\n",
       "    </tr>\n",
       "    <tr>\n",
       "      <th>Brazil</th>\n",
       "      <td>134.666667</td>\n",
       "      <td>3.400000</td>\n",
       "      <td>3.763333</td>\n",
       "      <td>19.616667</td>\n",
       "    </tr>\n",
       "    <tr>\n",
       "      <th>Canada</th>\n",
       "      <td>36.250000</td>\n",
       "      <td>2.500000</td>\n",
       "      <td>3.575000</td>\n",
       "      <td>103.000000</td>\n",
       "    </tr>\n",
       "    <tr>\n",
       "      <th>India</th>\n",
       "      <td>623.370319</td>\n",
       "      <td>1.721683</td>\n",
       "      <td>2.523324</td>\n",
       "      <td>137.212552</td>\n",
       "    </tr>\n",
       "    <tr>\n",
       "      <th>Indonesia</th>\n",
       "      <td>281190.476190</td>\n",
       "      <td>2.952381</td>\n",
       "      <td>4.295238</td>\n",
       "      <td>772.095238</td>\n",
       "    </tr>\n",
       "  </tbody>\n",
       "</table>\n",
       "</div>"
      ],
      "text/plain": [
       "                Avg_cost  Price_range    Rating       Votes\n",
       "Country                                                    \n",
       "Australia      24.083333     2.125000  3.658333  111.416667\n",
       "Brazil        134.666667     3.400000  3.763333   19.616667\n",
       "Canada         36.250000     2.500000  3.575000  103.000000\n",
       "India         623.370319     1.721683  2.523324  137.212552\n",
       "Indonesia  281190.476190     2.952381  4.295238  772.095238"
      ]
     },
     "execution_count": 43,
     "metadata": {},
     "output_type": "execute_result"
    }
   ],
   "source": [
    "df.head()"
   ]
  },
  {
   "cell_type": "code",
   "execution_count": 44,
   "metadata": {},
   "outputs": [
    {
     "data": {
      "text/plain": [
       "<matplotlib.axes._subplots.AxesSubplot at 0x1fe1727a400>"
      ]
     },
     "execution_count": 44,
     "metadata": {},
     "output_type": "execute_result"
    },
    {
     "data": {
      "image/png": "[encoded data removed]",
      "text/plain": [
       "<Figure size 1000x600 with 1 Axes>"
      ]
     },
     "metadata": {
      "image/png": {
       "height": 498,
       "width": 937
      },
      "needs_background": "light"
     },
     "output_type": "display_data"
    }
   ],
   "source": [
    "%config InlineBackend.figure_format = 'retina'\n",
    "plt.figure(figsize=(6,4),dpi=100)\n",
    "data.groupby(['Country']).mean()['Price_range'].sort_values().plot(kind='barh',figsize=(10,6))"
   ]
  },
  {
   "cell_type": "markdown",
   "metadata": {},
   "source": [
    "Dataset has categerica variables in the form of strings. For building a model, whole data need to be in numerical. Hence, encoding need to be done"
   ]
  },
  {
   "cell_type": "code",
   "execution_count": 45,
   "metadata": {},
   "outputs": [],
   "source": [
    "train_conti=pd.DataFrame(pd.get_dummies(X_train.Continent))\n",
    "test_conti=pd.get_dummies(X_test.Continent)"
   ]
  },
  {
   "cell_type": "code",
   "execution_count": 46,
   "metadata": {},
   "outputs": [],
   "source": [
    "train_countr=pd.get_dummies(X_train.Country)\n",
    "test_countr=pd.get_dummies(X_test.Country)"
   ]
  },
  {
   "cell_type": "code",
   "execution_count": 47,
   "metadata": {},
   "outputs": [],
   "source": [
    "X_train=pd.concat([X_train,train_conti,train_countr],axis=1)\n",
    "X_test=pd.concat([X_test,test_conti,test_countr],axis=1)"
   ]
  },
  {
   "cell_type": "code",
   "execution_count": 48,
   "metadata": {},
   "outputs": [],
   "source": [
    "X_train.drop(['Country','Continent'],axis=1,inplace=True)\n",
    "X_test.drop(['Country','Continent'],axis=1,inplace=True)"
   ]
  },
  {
   "cell_type": "markdown",
   "metadata": {},
   "source": [
    "From the above dataframe, we can observe that there are no strings but all the  values are in the form of numbers."
   ]
  },
  {
   "cell_type": "code",
   "execution_count": 49,
   "metadata": {},
   "outputs": [],
   "source": [
    "X_train.columns=['Table_booking', 'Online_delivery', 'Delivering_now', 'Price_range',\n",
    "       'Rating_text', 'Votes', 'no_of_cuisines', 'New_cost', 'Africa',\n",
    "       'Americas', 'Asia', 'Australia_continent', 'Europe', 'Australia',\n",
    "       'Brazil', 'Canada', 'India', 'Indonesia', 'NewZealand', 'Phillipines',\n",
    "       'Qatar', 'Singapore', 'SouthAfrica', 'SriLanka', 'Turkey', 'UAE',\n",
    "       'UnitedKingdom', 'UnitedStates']\n",
    "X_test.columns=['Table_booking', 'Online_delivery', 'Delivering_now', 'Price_range',\n",
    "       'Rating_text', 'Votes', 'no_of_cuisines', 'New_cost', 'Africa',\n",
    "       'Americas', 'Asia', 'Australia_continent', 'Europe', 'Australia',\n",
    "       'Brazil', 'Canada', 'India', 'Indonesia', 'NewZealand', 'Phillipines',\n",
    "       'Qatar', 'Singapore', 'SouthAfrica', 'SriLanka', 'Turkey', 'UAE',\n",
    "       'UnitedKingdom', 'UnitedStates']"
   ]
  },
  {
   "cell_type": "code",
   "execution_count": 50,
   "metadata": {},
   "outputs": [
    {
     "data": {
      "text/html": [
       "<div>\n",
       "<style scoped>\n",
       "    .dataframe tbody tr th:only-of-type {\n",
       "        vertical-align: middle;\n",
       "    }\n",
       "\n",
       "    .dataframe tbody tr th {\n",
       "        vertical-align: top;\n",
       "    }\n",
       "\n",
       "    .dataframe thead th {\n",
       "        text-align: right;\n",
       "    }\n",
       "</style>\n",
       "<table border=\"1\" class=\"dataframe\">\n",
       "  <thead>\n",
       "    <tr style=\"text-align: right;\">\n",
       "      <th></th>\n",
       "      <th>Table_booking</th>\n",
       "      <th>Online_delivery</th>\n",
       "      <th>Delivering_now</th>\n",
       "      <th>Price_range</th>\n",
       "      <th>Rating_text</th>\n",
       "      <th>Votes</th>\n",
       "      <th>no_of_cuisines</th>\n",
       "      <th>New_cost</th>\n",
       "      <th>Africa</th>\n",
       "      <th>Americas</th>\n",
       "      <th>...</th>\n",
       "      <th>NewZealand</th>\n",
       "      <th>Phillipines</th>\n",
       "      <th>Qatar</th>\n",
       "      <th>Singapore</th>\n",
       "      <th>SouthAfrica</th>\n",
       "      <th>SriLanka</th>\n",
       "      <th>Turkey</th>\n",
       "      <th>UAE</th>\n",
       "      <th>UnitedKingdom</th>\n",
       "      <th>UnitedStates</th>\n",
       "    </tr>\n",
       "  </thead>\n",
       "  <tbody>\n",
       "    <tr>\n",
       "      <th>Table_booking</th>\n",
       "      <td>1.000000</td>\n",
       "      <td>0.092934</td>\n",
       "      <td>-0.016397</td>\n",
       "      <td>0.503339</td>\n",
       "      <td>0.157058</td>\n",
       "      <td>0.156444</td>\n",
       "      <td>0.216266</td>\n",
       "      <td>0.277135</td>\n",
       "      <td>-0.021954</td>\n",
       "      <td>-0.085225</td>\n",
       "      <td>...</td>\n",
       "      <td>-0.025326</td>\n",
       "      <td>0.083331</td>\n",
       "      <td>-0.017596</td>\n",
       "      <td>-0.016998</td>\n",
       "      <td>-0.021954</td>\n",
       "      <td>-0.015064</td>\n",
       "      <td>-0.024064</td>\n",
       "      <td>0.057567</td>\n",
       "      <td>0.005497</td>\n",
       "      <td>-0.080429</td>\n",
       "    </tr>\n",
       "    <tr>\n",
       "      <th>Online_delivery</th>\n",
       "      <td>0.092934</td>\n",
       "      <td>1.000000</td>\n",
       "      <td>0.108110</td>\n",
       "      <td>0.073504</td>\n",
       "      <td>0.029602</td>\n",
       "      <td>0.067005</td>\n",
       "      <td>0.158543</td>\n",
       "      <td>-0.051990</td>\n",
       "      <td>-0.044537</td>\n",
       "      <td>-0.135294</td>\n",
       "      <td>...</td>\n",
       "      <td>-0.040205</td>\n",
       "      <td>-0.026984</td>\n",
       "      <td>-0.027934</td>\n",
       "      <td>-0.026984</td>\n",
       "      <td>-0.044537</td>\n",
       "      <td>-0.023914</td>\n",
       "      <td>-0.038202</td>\n",
       "      <td>0.031089</td>\n",
       "      <td>-0.054625</td>\n",
       "      <td>-0.127681</td>\n",
       "    </tr>\n",
       "    <tr>\n",
       "      <th>Delivering_now</th>\n",
       "      <td>-0.016397</td>\n",
       "      <td>0.108110</td>\n",
       "      <td>1.000000</td>\n",
       "      <td>0.008619</td>\n",
       "      <td>-0.008331</td>\n",
       "      <td>-0.002451</td>\n",
       "      <td>0.041202</td>\n",
       "      <td>-0.006558</td>\n",
       "      <td>-0.004815</td>\n",
       "      <td>-0.014627</td>\n",
       "      <td>...</td>\n",
       "      <td>-0.004347</td>\n",
       "      <td>-0.002917</td>\n",
       "      <td>-0.003020</td>\n",
       "      <td>-0.002917</td>\n",
       "      <td>-0.004815</td>\n",
       "      <td>-0.002585</td>\n",
       "      <td>-0.004130</td>\n",
       "      <td>-0.005064</td>\n",
       "      <td>-0.005905</td>\n",
       "      <td>-0.013804</td>\n",
       "    </tr>\n",
       "    <tr>\n",
       "      <th>Price_range</th>\n",
       "      <td>0.503339</td>\n",
       "      <td>0.073504</td>\n",
       "      <td>0.008619</td>\n",
       "      <td>1.000000</td>\n",
       "      <td>0.472088</td>\n",
       "      <td>0.310152</td>\n",
       "      <td>0.308747</td>\n",
       "      <td>0.587727</td>\n",
       "      <td>0.157322</td>\n",
       "      <td>0.106806</td>\n",
       "      <td>...</td>\n",
       "      <td>0.102531</td>\n",
       "      <td>0.078742</td>\n",
       "      <td>0.101249</td>\n",
       "      <td>0.096843</td>\n",
       "      <td>0.157322</td>\n",
       "      <td>0.049656</td>\n",
       "      <td>0.065347</td>\n",
       "      <td>0.130388</td>\n",
       "      <td>0.086753</td>\n",
       "      <td>0.065490</td>\n",
       "    </tr>\n",
       "    <tr>\n",
       "      <th>Rating_text</th>\n",
       "      <td>0.157058</td>\n",
       "      <td>0.029602</td>\n",
       "      <td>-0.008331</td>\n",
       "      <td>0.472088</td>\n",
       "      <td>1.000000</td>\n",
       "      <td>0.459501</td>\n",
       "      <td>0.189473</td>\n",
       "      <td>0.390076</td>\n",
       "      <td>0.139045</td>\n",
       "      <td>0.307766</td>\n",
       "      <td>...</td>\n",
       "      <td>0.134401</td>\n",
       "      <td>0.100948</td>\n",
       "      <td>0.065294</td>\n",
       "      <td>0.006921</td>\n",
       "      <td>0.139045</td>\n",
       "      <td>0.054425</td>\n",
       "      <td>0.123499</td>\n",
       "      <td>0.161614</td>\n",
       "      <td>0.153008</td>\n",
       "      <td>0.289800</td>\n",
       "    </tr>\n",
       "    <tr>\n",
       "      <th>Votes</th>\n",
       "      <td>0.156444</td>\n",
       "      <td>0.067005</td>\n",
       "      <td>-0.002451</td>\n",
       "      <td>0.310152</td>\n",
       "      <td>0.459501</td>\n",
       "      <td>1.000000</td>\n",
       "      <td>0.167486</td>\n",
       "      <td>0.187541</td>\n",
       "      <td>0.032985</td>\n",
       "      <td>0.120728</td>\n",
       "      <td>...</td>\n",
       "      <td>0.014796</td>\n",
       "      <td>0.026232</td>\n",
       "      <td>0.001764</td>\n",
       "      <td>-0.013110</td>\n",
       "      <td>0.032985</td>\n",
       "      <td>0.000543</td>\n",
       "      <td>0.037215</td>\n",
       "      <td>0.061962</td>\n",
       "      <td>0.012562</td>\n",
       "      <td>0.134819</td>\n",
       "    </tr>\n",
       "    <tr>\n",
       "      <th>no_of_cuisines</th>\n",
       "      <td>0.216266</td>\n",
       "      <td>0.158543</td>\n",
       "      <td>0.041202</td>\n",
       "      <td>0.308747</td>\n",
       "      <td>0.189473</td>\n",
       "      <td>0.167486</td>\n",
       "      <td>1.000000</td>\n",
       "      <td>0.110861</td>\n",
       "      <td>0.037089</td>\n",
       "      <td>-0.002860</td>\n",
       "      <td>...</td>\n",
       "      <td>-0.017972</td>\n",
       "      <td>0.021066</td>\n",
       "      <td>-0.011376</td>\n",
       "      <td>0.032938</td>\n",
       "      <td>0.037089</td>\n",
       "      <td>0.014364</td>\n",
       "      <td>-0.020600</td>\n",
       "      <td>0.015957</td>\n",
       "      <td>-0.020180</td>\n",
       "      <td>0.002397</td>\n",
       "    </tr>\n",
       "    <tr>\n",
       "      <th>New_cost</th>\n",
       "      <td>0.277135</td>\n",
       "      <td>-0.051990</td>\n",
       "      <td>-0.006558</td>\n",
       "      <td>0.587727</td>\n",
       "      <td>0.390076</td>\n",
       "      <td>0.187541</td>\n",
       "      <td>0.110861</td>\n",
       "      <td>1.000000</td>\n",
       "      <td>0.089227</td>\n",
       "      <td>0.205763</td>\n",
       "      <td>...</td>\n",
       "      <td>0.118627</td>\n",
       "      <td>0.337595</td>\n",
       "      <td>0.127343</td>\n",
       "      <td>0.414464</td>\n",
       "      <td>0.089227</td>\n",
       "      <td>0.006552</td>\n",
       "      <td>0.013661</td>\n",
       "      <td>0.161231</td>\n",
       "      <td>0.246644</td>\n",
       "      <td>0.178206</td>\n",
       "    </tr>\n",
       "    <tr>\n",
       "      <th>Africa</th>\n",
       "      <td>-0.021954</td>\n",
       "      <td>-0.044537</td>\n",
       "      <td>-0.004815</td>\n",
       "      <td>0.157322</td>\n",
       "      <td>0.139045</td>\n",
       "      <td>0.032985</td>\n",
       "      <td>0.037089</td>\n",
       "      <td>0.089227</td>\n",
       "      <td>1.000000</td>\n",
       "      <td>-0.017367</td>\n",
       "      <td>...</td>\n",
       "      <td>-0.005161</td>\n",
       "      <td>-0.003464</td>\n",
       "      <td>-0.003586</td>\n",
       "      <td>-0.003464</td>\n",
       "      <td>1.000000</td>\n",
       "      <td>-0.003070</td>\n",
       "      <td>-0.004904</td>\n",
       "      <td>-0.006012</td>\n",
       "      <td>-0.007012</td>\n",
       "      <td>-0.016389</td>\n",
       "    </tr>\n",
       "    <tr>\n",
       "      <th>Americas</th>\n",
       "      <td>-0.085225</td>\n",
       "      <td>-0.135294</td>\n",
       "      <td>-0.014627</td>\n",
       "      <td>0.106806</td>\n",
       "      <td>0.307766</td>\n",
       "      <td>0.120728</td>\n",
       "      <td>-0.002860</td>\n",
       "      <td>0.205763</td>\n",
       "      <td>-0.017367</td>\n",
       "      <td>1.000000</td>\n",
       "      <td>...</td>\n",
       "      <td>-0.015677</td>\n",
       "      <td>-0.010522</td>\n",
       "      <td>-0.010892</td>\n",
       "      <td>-0.010522</td>\n",
       "      <td>-0.017367</td>\n",
       "      <td>-0.009325</td>\n",
       "      <td>-0.014896</td>\n",
       "      <td>-0.018263</td>\n",
       "      <td>-0.021300</td>\n",
       "      <td>0.943723</td>\n",
       "    </tr>\n",
       "    <tr>\n",
       "      <th>Asia</th>\n",
       "      <td>0.090320</td>\n",
       "      <td>0.168202</td>\n",
       "      <td>0.018184</td>\n",
       "      <td>-0.207482</td>\n",
       "      <td>-0.418268</td>\n",
       "      <td>-0.125562</td>\n",
       "      <td>0.007963</td>\n",
       "      <td>-0.318826</td>\n",
       "      <td>-0.264785</td>\n",
       "      <td>-0.804358</td>\n",
       "      <td>...</td>\n",
       "      <td>-0.239031</td>\n",
       "      <td>0.013081</td>\n",
       "      <td>0.013542</td>\n",
       "      <td>0.013081</td>\n",
       "      <td>-0.264785</td>\n",
       "      <td>0.011593</td>\n",
       "      <td>-0.227119</td>\n",
       "      <td>0.022705</td>\n",
       "      <td>-0.324758</td>\n",
       "      <td>-0.759092</td>\n",
       "    </tr>\n",
       "    <tr>\n",
       "      <th>Australia_continent</th>\n",
       "      <td>-0.030886</td>\n",
       "      <td>-0.049031</td>\n",
       "      <td>-0.005301</td>\n",
       "      <td>0.090163</td>\n",
       "      <td>0.130498</td>\n",
       "      <td>0.009353</td>\n",
       "      <td>-0.013075</td>\n",
       "      <td>0.109077</td>\n",
       "      <td>-0.006294</td>\n",
       "      <td>-0.019119</td>\n",
       "      <td>...</td>\n",
       "      <td>0.819996</td>\n",
       "      <td>-0.003813</td>\n",
       "      <td>-0.003947</td>\n",
       "      <td>-0.003813</td>\n",
       "      <td>-0.006294</td>\n",
       "      <td>-0.003379</td>\n",
       "      <td>-0.005398</td>\n",
       "      <td>-0.006619</td>\n",
       "      <td>-0.007719</td>\n",
       "      <td>-0.018043</td>\n",
       "    </tr>\n",
       "    <tr>\n",
       "      <th>Europe</th>\n",
       "      <td>-0.009360</td>\n",
       "      <td>-0.066847</td>\n",
       "      <td>-0.007227</td>\n",
       "      <td>0.108859</td>\n",
       "      <td>0.196750</td>\n",
       "      <td>0.031760</td>\n",
       "      <td>-0.028435</td>\n",
       "      <td>0.210278</td>\n",
       "      <td>-0.008581</td>\n",
       "      <td>-0.026066</td>\n",
       "      <td>...</td>\n",
       "      <td>-0.007746</td>\n",
       "      <td>-0.005199</td>\n",
       "      <td>-0.005382</td>\n",
       "      <td>-0.005199</td>\n",
       "      <td>-0.008581</td>\n",
       "      <td>-0.004607</td>\n",
       "      <td>0.571482</td>\n",
       "      <td>-0.009024</td>\n",
       "      <td>0.817163</td>\n",
       "      <td>-0.024599</td>\n",
       "    </tr>\n",
       "    <tr>\n",
       "      <th>Australia</th>\n",
       "      <td>-0.017596</td>\n",
       "      <td>-0.027934</td>\n",
       "      <td>-0.003020</td>\n",
       "      <td>0.010305</td>\n",
       "      <td>0.035013</td>\n",
       "      <td>-0.004904</td>\n",
       "      <td>0.002962</td>\n",
       "      <td>0.020239</td>\n",
       "      <td>-0.003586</td>\n",
       "      <td>-0.010892</td>\n",
       "      <td>...</td>\n",
       "      <td>-0.003237</td>\n",
       "      <td>-0.002172</td>\n",
       "      <td>-0.002249</td>\n",
       "      <td>-0.002172</td>\n",
       "      <td>-0.003586</td>\n",
       "      <td>-0.001925</td>\n",
       "      <td>-0.003076</td>\n",
       "      <td>-0.003771</td>\n",
       "      <td>-0.004398</td>\n",
       "      <td>-0.010279</td>\n",
       "    </tr>\n",
       "    <tr>\n",
       "      <th>Brazil</th>\n",
       "      <td>-0.026135</td>\n",
       "      <td>-0.041488</td>\n",
       "      <td>-0.004485</td>\n",
       "      <td>0.133378</td>\n",
       "      <td>0.099534</td>\n",
       "      <td>-0.021957</td>\n",
       "      <td>-0.017671</td>\n",
       "      <td>0.105799</td>\n",
       "      <td>-0.005325</td>\n",
       "      <td>0.306652</td>\n",
       "      <td>...</td>\n",
       "      <td>-0.004808</td>\n",
       "      <td>-0.003227</td>\n",
       "      <td>-0.003340</td>\n",
       "      <td>-0.003227</td>\n",
       "      <td>-0.005325</td>\n",
       "      <td>-0.002859</td>\n",
       "      <td>-0.004568</td>\n",
       "      <td>-0.005600</td>\n",
       "      <td>-0.006532</td>\n",
       "      <td>-0.015267</td>\n",
       "    </tr>\n",
       "    <tr>\n",
       "      <th>Canada</th>\n",
       "      <td>-0.006419</td>\n",
       "      <td>-0.010190</td>\n",
       "      <td>-0.001102</td>\n",
       "      <td>0.022899</td>\n",
       "      <td>0.010011</td>\n",
       "      <td>-0.001910</td>\n",
       "      <td>0.006834</td>\n",
       "      <td>0.033710</td>\n",
       "      <td>-0.001308</td>\n",
       "      <td>0.075317</td>\n",
       "      <td>...</td>\n",
       "      <td>-0.001181</td>\n",
       "      <td>-0.000792</td>\n",
       "      <td>-0.000820</td>\n",
       "      <td>-0.000792</td>\n",
       "      <td>-0.001308</td>\n",
       "      <td>-0.000702</td>\n",
       "      <td>-0.001122</td>\n",
       "      <td>-0.001376</td>\n",
       "      <td>-0.001604</td>\n",
       "      <td>-0.003750</td>\n",
       "    </tr>\n",
       "    <tr>\n",
       "      <th>India</th>\n",
       "      <td>0.064152</td>\n",
       "      <td>0.166191</td>\n",
       "      <td>0.020270</td>\n",
       "      <td>-0.286771</td>\n",
       "      <td>-0.476685</td>\n",
       "      <td>-0.143260</td>\n",
       "      <td>-0.006267</td>\n",
       "      <td>-0.479711</td>\n",
       "      <td>-0.237539</td>\n",
       "      <td>-0.721593</td>\n",
       "      <td>...</td>\n",
       "      <td>-0.214435</td>\n",
       "      <td>-0.143921</td>\n",
       "      <td>-0.148984</td>\n",
       "      <td>-0.143921</td>\n",
       "      <td>-0.237539</td>\n",
       "      <td>-0.127544</td>\n",
       "      <td>-0.203749</td>\n",
       "      <td>-0.249804</td>\n",
       "      <td>-0.291342</td>\n",
       "      <td>-0.680984</td>\n",
       "    </tr>\n",
       "    <tr>\n",
       "      <th>Indonesia</th>\n",
       "      <td>-0.017596</td>\n",
       "      <td>-0.027934</td>\n",
       "      <td>-0.003020</td>\n",
       "      <td>0.062773</td>\n",
       "      <td>0.091791</td>\n",
       "      <td>0.056059</td>\n",
       "      <td>0.002962</td>\n",
       "      <td>0.022370</td>\n",
       "      <td>-0.003586</td>\n",
       "      <td>-0.010892</td>\n",
       "      <td>...</td>\n",
       "      <td>-0.003237</td>\n",
       "      <td>-0.002172</td>\n",
       "      <td>-0.002249</td>\n",
       "      <td>-0.002172</td>\n",
       "      <td>-0.003586</td>\n",
       "      <td>-0.001925</td>\n",
       "      <td>-0.003076</td>\n",
       "      <td>-0.003771</td>\n",
       "      <td>-0.004398</td>\n",
       "      <td>-0.010279</td>\n",
       "    </tr>\n",
       "    <tr>\n",
       "      <th>NewZealand</th>\n",
       "      <td>-0.025326</td>\n",
       "      <td>-0.040205</td>\n",
       "      <td>-0.004347</td>\n",
       "      <td>0.102531</td>\n",
       "      <td>0.134401</td>\n",
       "      <td>0.014796</td>\n",
       "      <td>-0.017972</td>\n",
       "      <td>0.118627</td>\n",
       "      <td>-0.005161</td>\n",
       "      <td>-0.015677</td>\n",
       "      <td>...</td>\n",
       "      <td>1.000000</td>\n",
       "      <td>-0.003127</td>\n",
       "      <td>-0.003237</td>\n",
       "      <td>-0.003127</td>\n",
       "      <td>-0.005161</td>\n",
       "      <td>-0.002771</td>\n",
       "      <td>-0.004427</td>\n",
       "      <td>-0.005427</td>\n",
       "      <td>-0.006330</td>\n",
       "      <td>-0.014795</td>\n",
       "    </tr>\n",
       "    <tr>\n",
       "      <th>Phillipines</th>\n",
       "      <td>0.083331</td>\n",
       "      <td>-0.026984</td>\n",
       "      <td>-0.002917</td>\n",
       "      <td>0.078742</td>\n",
       "      <td>0.100948</td>\n",
       "      <td>0.026232</td>\n",
       "      <td>0.021066</td>\n",
       "      <td>0.337595</td>\n",
       "      <td>-0.003464</td>\n",
       "      <td>-0.010522</td>\n",
       "      <td>...</td>\n",
       "      <td>-0.003127</td>\n",
       "      <td>1.000000</td>\n",
       "      <td>-0.002172</td>\n",
       "      <td>-0.002099</td>\n",
       "      <td>-0.003464</td>\n",
       "      <td>-0.001860</td>\n",
       "      <td>-0.002971</td>\n",
       "      <td>-0.003643</td>\n",
       "      <td>-0.004248</td>\n",
       "      <td>-0.009930</td>\n",
       "    </tr>\n",
       "    <tr>\n",
       "      <th>Qatar</th>\n",
       "      <td>-0.017596</td>\n",
       "      <td>-0.027934</td>\n",
       "      <td>-0.003020</td>\n",
       "      <td>0.101249</td>\n",
       "      <td>0.065294</td>\n",
       "      <td>0.001764</td>\n",
       "      <td>-0.011376</td>\n",
       "      <td>0.127343</td>\n",
       "      <td>-0.003586</td>\n",
       "      <td>-0.010892</td>\n",
       "      <td>...</td>\n",
       "      <td>-0.003237</td>\n",
       "      <td>-0.002172</td>\n",
       "      <td>1.000000</td>\n",
       "      <td>-0.002172</td>\n",
       "      <td>-0.003586</td>\n",
       "      <td>-0.001925</td>\n",
       "      <td>-0.003076</td>\n",
       "      <td>-0.003771</td>\n",
       "      <td>-0.004398</td>\n",
       "      <td>-0.010279</td>\n",
       "    </tr>\n",
       "    <tr>\n",
       "      <th>Singapore</th>\n",
       "      <td>-0.016998</td>\n",
       "      <td>-0.026984</td>\n",
       "      <td>-0.002917</td>\n",
       "      <td>0.096843</td>\n",
       "      <td>0.006921</td>\n",
       "      <td>-0.013110</td>\n",
       "      <td>0.032938</td>\n",
       "      <td>0.414464</td>\n",
       "      <td>-0.003464</td>\n",
       "      <td>-0.010522</td>\n",
       "      <td>...</td>\n",
       "      <td>-0.003127</td>\n",
       "      <td>-0.002099</td>\n",
       "      <td>-0.002172</td>\n",
       "      <td>1.000000</td>\n",
       "      <td>-0.003464</td>\n",
       "      <td>-0.001860</td>\n",
       "      <td>-0.002971</td>\n",
       "      <td>-0.003643</td>\n",
       "      <td>-0.004248</td>\n",
       "      <td>-0.009930</td>\n",
       "    </tr>\n",
       "    <tr>\n",
       "      <th>SouthAfrica</th>\n",
       "      <td>-0.021954</td>\n",
       "      <td>-0.044537</td>\n",
       "      <td>-0.004815</td>\n",
       "      <td>0.157322</td>\n",
       "      <td>0.139045</td>\n",
       "      <td>0.032985</td>\n",
       "      <td>0.037089</td>\n",
       "      <td>0.089227</td>\n",
       "      <td>1.000000</td>\n",
       "      <td>-0.017367</td>\n",
       "      <td>...</td>\n",
       "      <td>-0.005161</td>\n",
       "      <td>-0.003464</td>\n",
       "      <td>-0.003586</td>\n",
       "      <td>-0.003464</td>\n",
       "      <td>1.000000</td>\n",
       "      <td>-0.003070</td>\n",
       "      <td>-0.004904</td>\n",
       "      <td>-0.006012</td>\n",
       "      <td>-0.007012</td>\n",
       "      <td>-0.016389</td>\n",
       "    </tr>\n",
       "    <tr>\n",
       "      <th>SriLanka</th>\n",
       "      <td>-0.015064</td>\n",
       "      <td>-0.023914</td>\n",
       "      <td>-0.002585</td>\n",
       "      <td>0.049656</td>\n",
       "      <td>0.054425</td>\n",
       "      <td>0.000543</td>\n",
       "      <td>0.014364</td>\n",
       "      <td>0.006552</td>\n",
       "      <td>-0.003070</td>\n",
       "      <td>-0.009325</td>\n",
       "      <td>...</td>\n",
       "      <td>-0.002771</td>\n",
       "      <td>-0.001860</td>\n",
       "      <td>-0.001925</td>\n",
       "      <td>-0.001860</td>\n",
       "      <td>-0.003070</td>\n",
       "      <td>1.000000</td>\n",
       "      <td>-0.002633</td>\n",
       "      <td>-0.003228</td>\n",
       "      <td>-0.003765</td>\n",
       "      <td>-0.008800</td>\n",
       "    </tr>\n",
       "    <tr>\n",
       "      <th>Turkey</th>\n",
       "      <td>-0.024064</td>\n",
       "      <td>-0.038202</td>\n",
       "      <td>-0.004130</td>\n",
       "      <td>0.065347</td>\n",
       "      <td>0.123499</td>\n",
       "      <td>0.037215</td>\n",
       "      <td>-0.020600</td>\n",
       "      <td>0.013661</td>\n",
       "      <td>-0.004904</td>\n",
       "      <td>-0.014896</td>\n",
       "      <td>...</td>\n",
       "      <td>-0.004427</td>\n",
       "      <td>-0.002971</td>\n",
       "      <td>-0.003076</td>\n",
       "      <td>-0.002971</td>\n",
       "      <td>-0.004904</td>\n",
       "      <td>-0.002633</td>\n",
       "      <td>1.000000</td>\n",
       "      <td>-0.005157</td>\n",
       "      <td>-0.006014</td>\n",
       "      <td>-0.014058</td>\n",
       "    </tr>\n",
       "    <tr>\n",
       "      <th>UAE</th>\n",
       "      <td>0.057567</td>\n",
       "      <td>0.031089</td>\n",
       "      <td>-0.005064</td>\n",
       "      <td>0.130388</td>\n",
       "      <td>0.161614</td>\n",
       "      <td>0.061962</td>\n",
       "      <td>0.015957</td>\n",
       "      <td>0.161231</td>\n",
       "      <td>-0.006012</td>\n",
       "      <td>-0.018263</td>\n",
       "      <td>...</td>\n",
       "      <td>-0.005427</td>\n",
       "      <td>-0.003643</td>\n",
       "      <td>-0.003771</td>\n",
       "      <td>-0.003643</td>\n",
       "      <td>-0.006012</td>\n",
       "      <td>-0.003228</td>\n",
       "      <td>-0.005157</td>\n",
       "      <td>1.000000</td>\n",
       "      <td>-0.007374</td>\n",
       "      <td>-0.017235</td>\n",
       "    </tr>\n",
       "    <tr>\n",
       "      <th>UnitedKingdom</th>\n",
       "      <td>0.005497</td>\n",
       "      <td>-0.054625</td>\n",
       "      <td>-0.005905</td>\n",
       "      <td>0.086753</td>\n",
       "      <td>0.153008</td>\n",
       "      <td>0.012562</td>\n",
       "      <td>-0.020180</td>\n",
       "      <td>0.246644</td>\n",
       "      <td>-0.007012</td>\n",
       "      <td>-0.021300</td>\n",
       "      <td>...</td>\n",
       "      <td>-0.006330</td>\n",
       "      <td>-0.004248</td>\n",
       "      <td>-0.004398</td>\n",
       "      <td>-0.004248</td>\n",
       "      <td>-0.007012</td>\n",
       "      <td>-0.003765</td>\n",
       "      <td>-0.006014</td>\n",
       "      <td>-0.007374</td>\n",
       "      <td>1.000000</td>\n",
       "      <td>-0.020101</td>\n",
       "    </tr>\n",
       "    <tr>\n",
       "      <th>UnitedStates</th>\n",
       "      <td>-0.080429</td>\n",
       "      <td>-0.127681</td>\n",
       "      <td>-0.013804</td>\n",
       "      <td>0.065490</td>\n",
       "      <td>0.289800</td>\n",
       "      <td>0.134819</td>\n",
       "      <td>0.002397</td>\n",
       "      <td>0.178206</td>\n",
       "      <td>-0.016389</td>\n",
       "      <td>0.943723</td>\n",
       "      <td>...</td>\n",
       "      <td>-0.014795</td>\n",
       "      <td>-0.009930</td>\n",
       "      <td>-0.010279</td>\n",
       "      <td>-0.009930</td>\n",
       "      <td>-0.016389</td>\n",
       "      <td>-0.008800</td>\n",
       "      <td>-0.014058</td>\n",
       "      <td>-0.017235</td>\n",
       "      <td>-0.020101</td>\n",
       "      <td>1.000000</td>\n",
       "    </tr>\n",
       "  </tbody>\n",
       "</table>\n",
       "<p>28 rows × 28 columns</p>\n",
       "</div>"
      ],
      "text/plain": [
       "                     Table_booking  Online_delivery  Delivering_now  \\\n",
       "Table_booking             1.000000         0.092934       -0.016397   \n",
       "Online_delivery           0.092934         1.000000        0.108110   \n",
       "Delivering_now           -0.016397         0.108110        1.000000   \n",
       "Price_range               0.503339         0.073504        0.008619   \n",
       "Rating_text               0.157058         0.029602       -0.008331   \n",
       "Votes                     0.156444         0.067005       -0.002451   \n",
       "no_of_cuisines            0.216266         0.158543        0.041202   \n",
       "New_cost                  0.277135        -0.051990       -0.006558   \n",
       "Africa                   -0.021954        -0.044537       -0.004815   \n",
       "Americas                 -0.085225        -0.135294       -0.014627   \n",
       "Asia                      0.090320         0.168202        0.018184   \n",
       "Australia_continent      -0.030886        -0.049031       -0.005301   \n",
       "Europe                   -0.009360        -0.066847       -0.007227   \n",
       "Australia                -0.017596        -0.027934       -0.003020   \n",
       "Brazil                   -0.026135        -0.041488       -0.004485   \n",
       "Canada                   -0.006419        -0.010190       -0.001102   \n",
       "India                     0.064152         0.166191        0.020270   \n",
       "Indonesia                -0.017596        -0.027934       -0.003020   \n",
       "NewZealand               -0.025326        -0.040205       -0.004347   \n",
       "Phillipines               0.083331        -0.026984       -0.002917   \n",
       "Qatar                    -0.017596        -0.027934       -0.003020   \n",
       "Singapore                -0.016998        -0.026984       -0.002917   \n",
       "SouthAfrica              -0.021954        -0.044537       -0.004815   \n",
       "SriLanka                 -0.015064        -0.023914       -0.002585   \n",
       "Turkey                   -0.024064        -0.038202       -0.004130   \n",
       "UAE                       0.057567         0.031089       -0.005064   \n",
       "UnitedKingdom             0.005497        -0.054625       -0.005905   \n",
       "UnitedStates             -0.080429        -0.127681       -0.013804   \n",
       "\n",
       "                     Price_range  Rating_text     Votes  no_of_cuisines  \\\n",
       "Table_booking           0.503339     0.157058  0.156444        0.216266   \n",
       "Online_delivery         0.073504     0.029602  0.067005        0.158543   \n",
       "Delivering_now          0.008619    -0.008331 -0.002451        0.041202   \n",
       "Price_range             1.000000     0.472088  0.310152        0.308747   \n",
       "Rating_text             0.472088     1.000000  0.459501        0.189473   \n",
       "Votes                   0.310152     0.459501  1.000000        0.167486   \n",
       "no_of_cuisines          0.308747     0.189473  0.167486        1.000000   \n",
       "New_cost                0.587727     0.390076  0.187541        0.110861   \n",
       "Africa                  0.157322     0.139045  0.032985        0.037089   \n",
       "Americas                0.106806     0.307766  0.120728       -0.002860   \n",
       "Asia                   -0.207482    -0.418268 -0.125562        0.007963   \n",
       "Australia_continent     0.090163     0.130498  0.009353       -0.013075   \n",
       "Europe                  0.108859     0.196750  0.031760       -0.028435   \n",
       "Australia               0.010305     0.035013 -0.004904        0.002962   \n",
       "Brazil                  0.133378     0.099534 -0.021957       -0.017671   \n",
       "Canada                  0.022899     0.010011 -0.001910        0.006834   \n",
       "India                  -0.286771    -0.476685 -0.143260       -0.006267   \n",
       "Indonesia               0.062773     0.091791  0.056059        0.002962   \n",
       "NewZealand              0.102531     0.134401  0.014796       -0.017972   \n",
       "Phillipines             0.078742     0.100948  0.026232        0.021066   \n",
       "Qatar                   0.101249     0.065294  0.001764       -0.011376   \n",
       "Singapore               0.096843     0.006921 -0.013110        0.032938   \n",
       "SouthAfrica             0.157322     0.139045  0.032985        0.037089   \n",
       "SriLanka                0.049656     0.054425  0.000543        0.014364   \n",
       "Turkey                  0.065347     0.123499  0.037215       -0.020600   \n",
       "UAE                     0.130388     0.161614  0.061962        0.015957   \n",
       "UnitedKingdom           0.086753     0.153008  0.012562       -0.020180   \n",
       "UnitedStates            0.065490     0.289800  0.134819        0.002397   \n",
       "\n",
       "                     New_cost    Africa  Americas      ...       NewZealand  \\\n",
       "Table_booking        0.277135 -0.021954 -0.085225      ...        -0.025326   \n",
       "Online_delivery     -0.051990 -0.044537 -0.135294      ...        -0.040205   \n",
       "Delivering_now      -0.006558 -0.004815 -0.014627      ...        -0.004347   \n",
       "Price_range          0.587727  0.157322  0.106806      ...         0.102531   \n",
       "Rating_text          0.390076  0.139045  0.307766      ...         0.134401   \n",
       "Votes                0.187541  0.032985  0.120728      ...         0.014796   \n",
       "no_of_cuisines       0.110861  0.037089 -0.002860      ...        -0.017972   \n",
       "New_cost             1.000000  0.089227  0.205763      ...         0.118627   \n",
       "Africa               0.089227  1.000000 -0.017367      ...        -0.005161   \n",
       "Americas             0.205763 -0.017367  1.000000      ...        -0.015677   \n",
       "Asia                -0.318826 -0.264785 -0.804358      ...        -0.239031   \n",
       "Australia_continent  0.109077 -0.006294 -0.019119      ...         0.819996   \n",
       "Europe               0.210278 -0.008581 -0.026066      ...        -0.007746   \n",
       "Australia            0.020239 -0.003586 -0.010892      ...        -0.003237   \n",
       "Brazil               0.105799 -0.005325  0.306652      ...        -0.004808   \n",
       "Canada               0.033710 -0.001308  0.075317      ...        -0.001181   \n",
       "India               -0.479711 -0.237539 -0.721593      ...        -0.214435   \n",
       "Indonesia            0.022370 -0.003586 -0.010892      ...        -0.003237   \n",
       "NewZealand           0.118627 -0.005161 -0.015677      ...         1.000000   \n",
       "Phillipines          0.337595 -0.003464 -0.010522      ...        -0.003127   \n",
       "Qatar                0.127343 -0.003586 -0.010892      ...        -0.003237   \n",
       "Singapore            0.414464 -0.003464 -0.010522      ...        -0.003127   \n",
       "SouthAfrica          0.089227  1.000000 -0.017367      ...        -0.005161   \n",
       "SriLanka             0.006552 -0.003070 -0.009325      ...        -0.002771   \n",
       "Turkey               0.013661 -0.004904 -0.014896      ...        -0.004427   \n",
       "UAE                  0.161231 -0.006012 -0.018263      ...        -0.005427   \n",
       "UnitedKingdom        0.246644 -0.007012 -0.021300      ...        -0.006330   \n",
       "UnitedStates         0.178206 -0.016389  0.943723      ...        -0.014795   \n",
       "\n",
       "                     Phillipines     Qatar  Singapore  SouthAfrica  SriLanka  \\\n",
       "Table_booking           0.083331 -0.017596  -0.016998    -0.021954 -0.015064   \n",
       "Online_delivery        -0.026984 -0.027934  -0.026984    -0.044537 -0.023914   \n",
       "Delivering_now         -0.002917 -0.003020  -0.002917    -0.004815 -0.002585   \n",
       "Price_range             0.078742  0.101249   0.096843     0.157322  0.049656   \n",
       "Rating_text             0.100948  0.065294   0.006921     0.139045  0.054425   \n",
       "Votes                   0.026232  0.001764  -0.013110     0.032985  0.000543   \n",
       "no_of_cuisines          0.021066 -0.011376   0.032938     0.037089  0.014364   \n",
       "New_cost                0.337595  0.127343   0.414464     0.089227  0.006552   \n",
       "Africa                 -0.003464 -0.003586  -0.003464     1.000000 -0.003070   \n",
       "Americas               -0.010522 -0.010892  -0.010522    -0.017367 -0.009325   \n",
       "Asia                    0.013081  0.013542   0.013081    -0.264785  0.011593   \n",
       "Australia_continent    -0.003813 -0.003947  -0.003813    -0.006294 -0.003379   \n",
       "Europe                 -0.005199 -0.005382  -0.005199    -0.008581 -0.004607   \n",
       "Australia              -0.002172 -0.002249  -0.002172    -0.003586 -0.001925   \n",
       "Brazil                 -0.003227 -0.003340  -0.003227    -0.005325 -0.002859   \n",
       "Canada                 -0.000792 -0.000820  -0.000792    -0.001308 -0.000702   \n",
       "India                  -0.143921 -0.148984  -0.143921    -0.237539 -0.127544   \n",
       "Indonesia              -0.002172 -0.002249  -0.002172    -0.003586 -0.001925   \n",
       "NewZealand             -0.003127 -0.003237  -0.003127    -0.005161 -0.002771   \n",
       "Phillipines             1.000000 -0.002172  -0.002099    -0.003464 -0.001860   \n",
       "Qatar                  -0.002172  1.000000  -0.002172    -0.003586 -0.001925   \n",
       "Singapore              -0.002099 -0.002172   1.000000    -0.003464 -0.001860   \n",
       "SouthAfrica            -0.003464 -0.003586  -0.003464     1.000000 -0.003070   \n",
       "SriLanka               -0.001860 -0.001925  -0.001860    -0.003070  1.000000   \n",
       "Turkey                 -0.002971 -0.003076  -0.002971    -0.004904 -0.002633   \n",
       "UAE                    -0.003643 -0.003771  -0.003643    -0.006012 -0.003228   \n",
       "UnitedKingdom          -0.004248 -0.004398  -0.004248    -0.007012 -0.003765   \n",
       "UnitedStates           -0.009930 -0.010279  -0.009930    -0.016389 -0.008800   \n",
       "\n",
       "                       Turkey       UAE  UnitedKingdom  UnitedStates  \n",
       "Table_booking       -0.024064  0.057567       0.005497     -0.080429  \n",
       "Online_delivery     -0.038202  0.031089      -0.054625     -0.127681  \n",
       "Delivering_now      -0.004130 -0.005064      -0.005905     -0.013804  \n",
       "Price_range          0.065347  0.130388       0.086753      0.065490  \n",
       "Rating_text          0.123499  0.161614       0.153008      0.289800  \n",
       "Votes                0.037215  0.061962       0.012562      0.134819  \n",
       "no_of_cuisines      -0.020600  0.015957      -0.020180      0.002397  \n",
       "New_cost             0.013661  0.161231       0.246644      0.178206  \n",
       "Africa              -0.004904 -0.006012      -0.007012     -0.016389  \n",
       "Americas            -0.014896 -0.018263      -0.021300      0.943723  \n",
       "Asia                -0.227119  0.022705      -0.324758     -0.759092  \n",
       "Australia_continent -0.005398 -0.006619      -0.007719     -0.018043  \n",
       "Europe               0.571482 -0.009024       0.817163     -0.024599  \n",
       "Australia           -0.003076 -0.003771      -0.004398     -0.010279  \n",
       "Brazil              -0.004568 -0.005600      -0.006532     -0.015267  \n",
       "Canada              -0.001122 -0.001376      -0.001604     -0.003750  \n",
       "India               -0.203749 -0.249804      -0.291342     -0.680984  \n",
       "Indonesia           -0.003076 -0.003771      -0.004398     -0.010279  \n",
       "NewZealand          -0.004427 -0.005427      -0.006330     -0.014795  \n",
       "Phillipines         -0.002971 -0.003643      -0.004248     -0.009930  \n",
       "Qatar               -0.003076 -0.003771      -0.004398     -0.010279  \n",
       "Singapore           -0.002971 -0.003643      -0.004248     -0.009930  \n",
       "SouthAfrica         -0.004904 -0.006012      -0.007012     -0.016389  \n",
       "SriLanka            -0.002633 -0.003228      -0.003765     -0.008800  \n",
       "Turkey               1.000000 -0.005157      -0.006014     -0.014058  \n",
       "UAE                 -0.005157  1.000000      -0.007374     -0.017235  \n",
       "UnitedKingdom       -0.006014 -0.007374       1.000000     -0.020101  \n",
       "UnitedStates        -0.014058 -0.017235      -0.020101      1.000000  \n",
       "\n",
       "[28 rows x 28 columns]"
      ]
     },
     "execution_count": 50,
     "metadata": {},
     "output_type": "execute_result"
    }
   ],
   "source": [
    "X_train.corr()"
   ]
  },
  {
   "cell_type": "markdown",
   "metadata": {},
   "source": [
    "### Scaling. Lets apply zscore for the purpose of data scaling"
   ]
  },
  {
   "cell_type": "code",
   "execution_count": 51,
   "metadata": {},
   "outputs": [],
   "source": [
    "from sklearn import model_selection\n",
    "from scipy.stats import zscore\n",
    "from sklearn.metrics import explained_variance_score"
   ]
  },
  {
   "cell_type": "code",
   "execution_count": 52,
   "metadata": {},
   "outputs": [],
   "source": [
    "train_scale=pd.DataFrame(zscore(X_train,axis=1))\n",
    "test_scale=pd.DataFrame(zscore(X_test,axis=1))"
   ]
  },
  {
   "cell_type": "code",
   "execution_count": 53,
   "metadata": {},
   "outputs": [],
   "source": [
    "train_scale.columns=['Table_booking', 'Online_delivery', 'Delivering_now', 'Price_range',\n",
    "       'Rating_text', 'Votes', 'no_of_cuisines', 'New_cost', 'Africa',\n",
    "       'Americas', 'Asia', 'Australia_continent', 'Europe', 'Australia',\n",
    "       'Brazil', 'Canada', 'India', 'Indonesia', 'NewZealand', 'Phillipines',\n",
    "       'Qatar', 'Singapore', 'SouthAfrica', 'SriLanka', 'Turkey', 'UAE',\n",
    "       'UnitedKingdom', 'UnitedStates']\n",
    "test_scale.columns=['Table_booking', 'Online_delivery', 'Delivering_now', 'Price_range',\n",
    "       'Rating_text', 'Votes', 'no_of_cuisines', 'New_cost', 'Africa',\n",
    "       'Americas', 'Asia', 'Australia_continent', 'Europe', 'Australia',\n",
    "       'Brazil', 'Canada', 'India', 'Indonesia', 'NewZealand', 'Phillipines',\n",
    "       'Qatar', 'Singapore', 'SouthAfrica', 'SriLanka', 'Turkey', 'UAE',\n",
    "       'UnitedKingdom', 'UnitedStates']"
   ]
  },
  {
   "cell_type": "code",
   "execution_count": 54,
   "metadata": {},
   "outputs": [
    {
     "data": {
      "text/html": [
       "<div>\n",
       "<style scoped>\n",
       "    .dataframe tbody tr th:only-of-type {\n",
       "        vertical-align: middle;\n",
       "    }\n",
       "\n",
       "    .dataframe tbody tr th {\n",
       "        vertical-align: top;\n",
       "    }\n",
       "\n",
       "    .dataframe thead th {\n",
       "        text-align: right;\n",
       "    }\n",
       "</style>\n",
       "<table border=\"1\" class=\"dataframe\">\n",
       "  <thead>\n",
       "    <tr style=\"text-align: right;\">\n",
       "      <th></th>\n",
       "      <th>Table_booking</th>\n",
       "      <th>Online_delivery</th>\n",
       "      <th>Delivering_now</th>\n",
       "      <th>Price_range</th>\n",
       "      <th>Rating_text</th>\n",
       "      <th>Votes</th>\n",
       "      <th>no_of_cuisines</th>\n",
       "      <th>New_cost</th>\n",
       "      <th>Africa</th>\n",
       "      <th>Americas</th>\n",
       "      <th>...</th>\n",
       "      <th>NewZealand</th>\n",
       "      <th>Phillipines</th>\n",
       "      <th>Qatar</th>\n",
       "      <th>Singapore</th>\n",
       "      <th>SouthAfrica</th>\n",
       "      <th>SriLanka</th>\n",
       "      <th>Turkey</th>\n",
       "      <th>UAE</th>\n",
       "      <th>UnitedKingdom</th>\n",
       "      <th>UnitedStates</th>\n",
       "    </tr>\n",
       "  </thead>\n",
       "  <tbody>\n",
       "    <tr>\n",
       "      <th>0</th>\n",
       "      <td>-0.261832</td>\n",
       "      <td>-0.261832</td>\n",
       "      <td>-0.261832</td>\n",
       "      <td>-0.017455</td>\n",
       "      <td>0.104733</td>\n",
       "      <td>5.114443</td>\n",
       "      <td>-0.017455</td>\n",
       "      <td>0.593485</td>\n",
       "      <td>-0.261832</td>\n",
       "      <td>-0.261832</td>\n",
       "      <td>...</td>\n",
       "      <td>-0.261832</td>\n",
       "      <td>-0.261832</td>\n",
       "      <td>-0.261832</td>\n",
       "      <td>-0.261832</td>\n",
       "      <td>-0.261832</td>\n",
       "      <td>-0.261832</td>\n",
       "      <td>-0.261832</td>\n",
       "      <td>-0.261832</td>\n",
       "      <td>-0.261832</td>\n",
       "      <td>-0.261832</td>\n",
       "    </tr>\n",
       "    <tr>\n",
       "      <th>1</th>\n",
       "      <td>-0.398334</td>\n",
       "      <td>-0.398334</td>\n",
       "      <td>-0.398334</td>\n",
       "      <td>0.493934</td>\n",
       "      <td>0.493934</td>\n",
       "      <td>4.063003</td>\n",
       "      <td>0.493934</td>\n",
       "      <td>2.724602</td>\n",
       "      <td>-0.398334</td>\n",
       "      <td>-0.398334</td>\n",
       "      <td>...</td>\n",
       "      <td>-0.398334</td>\n",
       "      <td>-0.398334</td>\n",
       "      <td>-0.398334</td>\n",
       "      <td>-0.398334</td>\n",
       "      <td>-0.398334</td>\n",
       "      <td>-0.398334</td>\n",
       "      <td>-0.398334</td>\n",
       "      <td>-0.398334</td>\n",
       "      <td>-0.398334</td>\n",
       "      <td>-0.398334</td>\n",
       "    </tr>\n",
       "    <tr>\n",
       "      <th>2</th>\n",
       "      <td>-0.340418</td>\n",
       "      <td>-0.340418</td>\n",
       "      <td>-0.340418</td>\n",
       "      <td>0.897466</td>\n",
       "      <td>0.897466</td>\n",
       "      <td>-0.340418</td>\n",
       "      <td>0.278524</td>\n",
       "      <td>4.858696</td>\n",
       "      <td>-0.340418</td>\n",
       "      <td>-0.340418</td>\n",
       "      <td>...</td>\n",
       "      <td>-0.340418</td>\n",
       "      <td>-0.340418</td>\n",
       "      <td>-0.340418</td>\n",
       "      <td>-0.340418</td>\n",
       "      <td>-0.340418</td>\n",
       "      <td>-0.340418</td>\n",
       "      <td>-0.340418</td>\n",
       "      <td>-0.340418</td>\n",
       "      <td>-0.340418</td>\n",
       "      <td>-0.340418</td>\n",
       "    </tr>\n",
       "    <tr>\n",
       "      <th>3</th>\n",
       "      <td>-0.211831</td>\n",
       "      <td>-0.211831</td>\n",
       "      <td>-0.211831</td>\n",
       "      <td>-0.140140</td>\n",
       "      <td>-0.140140</td>\n",
       "      <td>5.188931</td>\n",
       "      <td>-0.140140</td>\n",
       "      <td>0.055817</td>\n",
       "      <td>-0.211831</td>\n",
       "      <td>-0.211831</td>\n",
       "      <td>...</td>\n",
       "      <td>-0.211831</td>\n",
       "      <td>-0.211831</td>\n",
       "      <td>-0.211831</td>\n",
       "      <td>-0.211831</td>\n",
       "      <td>-0.211831</td>\n",
       "      <td>-0.211831</td>\n",
       "      <td>-0.211831</td>\n",
       "      <td>-0.211831</td>\n",
       "      <td>-0.211831</td>\n",
       "      <td>-0.211831</td>\n",
       "    </tr>\n",
       "    <tr>\n",
       "      <th>4</th>\n",
       "      <td>-0.459933</td>\n",
       "      <td>-0.459933</td>\n",
       "      <td>-0.459933</td>\n",
       "      <td>1.003490</td>\n",
       "      <td>2.466914</td>\n",
       "      <td>-0.459933</td>\n",
       "      <td>1.003490</td>\n",
       "      <td>3.637653</td>\n",
       "      <td>-0.459933</td>\n",
       "      <td>-0.459933</td>\n",
       "      <td>...</td>\n",
       "      <td>-0.459933</td>\n",
       "      <td>-0.459933</td>\n",
       "      <td>-0.459933</td>\n",
       "      <td>-0.459933</td>\n",
       "      <td>-0.459933</td>\n",
       "      <td>-0.459933</td>\n",
       "      <td>-0.459933</td>\n",
       "      <td>-0.459933</td>\n",
       "      <td>-0.459933</td>\n",
       "      <td>-0.459933</td>\n",
       "    </tr>\n",
       "  </tbody>\n",
       "</table>\n",
       "<p>5 rows × 28 columns</p>\n",
       "</div>"
      ],
      "text/plain": [
       "   Table_booking  Online_delivery  Delivering_now  Price_range  Rating_text  \\\n",
       "0      -0.261832        -0.261832       -0.261832    -0.017455     0.104733   \n",
       "1      -0.398334        -0.398334       -0.398334     0.493934     0.493934   \n",
       "2      -0.340418        -0.340418       -0.340418     0.897466     0.897466   \n",
       "3      -0.211831        -0.211831       -0.211831    -0.140140    -0.140140   \n",
       "4      -0.459933        -0.459933       -0.459933     1.003490     2.466914   \n",
       "\n",
       "      Votes  no_of_cuisines  New_cost    Africa  Americas      ...       \\\n",
       "0  5.114443       -0.017455  0.593485 -0.261832 -0.261832      ...        \n",
       "1  4.063003        0.493934  2.724602 -0.398334 -0.398334      ...        \n",
       "2 -0.340418        0.278524  4.858696 -0.340418 -0.340418      ...        \n",
       "3  5.188931       -0.140140  0.055817 -0.211831 -0.211831      ...        \n",
       "4 -0.459933        1.003490  3.637653 -0.459933 -0.459933      ...        \n",
       "\n",
       "   NewZealand  Phillipines     Qatar  Singapore  SouthAfrica  SriLanka  \\\n",
       "0   -0.261832    -0.261832 -0.261832  -0.261832    -0.261832 -0.261832   \n",
       "1   -0.398334    -0.398334 -0.398334  -0.398334    -0.398334 -0.398334   \n",
       "2   -0.340418    -0.340418 -0.340418  -0.340418    -0.340418 -0.340418   \n",
       "3   -0.211831    -0.211831 -0.211831  -0.211831    -0.211831 -0.211831   \n",
       "4   -0.459933    -0.459933 -0.459933  -0.459933    -0.459933 -0.459933   \n",
       "\n",
       "     Turkey       UAE  UnitedKingdom  UnitedStates  \n",
       "0 -0.261832 -0.261832      -0.261832     -0.261832  \n",
       "1 -0.398334 -0.398334      -0.398334     -0.398334  \n",
       "2 -0.340418 -0.340418      -0.340418     -0.340418  \n",
       "3 -0.211831 -0.211831      -0.211831     -0.211831  \n",
       "4 -0.459933 -0.459933      -0.459933     -0.459933  \n",
       "\n",
       "[5 rows x 28 columns]"
      ]
     },
     "execution_count": 54,
     "metadata": {},
     "output_type": "execute_result"
    }
   ],
   "source": [
    "train_scale.head()"
   ]
  },
  {
   "cell_type": "code",
   "execution_count": 55,
   "metadata": {},
   "outputs": [],
   "source": [
    "train_scale=np.round(train_scale,decimals=4)\n",
    "test_scale=np.round(test_scale,decimals=4)\n",
    "y_train=np.round(y_train,decimals=4)"
   ]
  },
  {
   "cell_type": "markdown",
   "metadata": {},
   "source": [
    "### LINEAR REGRESSION"
   ]
  },
  {
   "cell_type": "code",
   "execution_count": 56,
   "metadata": {},
   "outputs": [
    {
     "name": "stdout",
     "output_type": "stream",
     "text": [
      "0.8472025815048616\n",
      "RMSE score through Linear regression :  0.5887583774996873\n"
     ]
    }
   ],
   "source": [
    "# implementation of Linear Regression model using scikit-learn and K-fold for stable model\n",
    "from sklearn.linear_model import LinearRegression\n",
    "from sklearn import metrics\n",
    "from sklearn.metrics import r2_score"
   ]
  },
  {
   "cell_type": "code",
   "execution_count": null,
   "metadata": {},
   "outputs": [],
   "source": [
    "lr = LinearRegression()\n",
    "lr.fit(train_scale,y_train)\n",
    "lr_pred = lr.predict(test_scale)\n",
    "print(r2_score(y_test,np.round(lr_pred,decimals=1)))\n",
    "print('RMSE score through Linear regression : ',np.sqrt(metrics.mean_squared_error(y_test,np.round(lr_pred,decimals=1))))"
   ]
  },
  {
   "cell_type": "markdown",
   "metadata": {},
   "source": [
    "### Decision Tree regressor"
   ]
  },
  {
   "cell_type": "code",
   "execution_count": 57,
   "metadata": {},
   "outputs": [
    {
     "name": "stdout",
     "output_type": "stream",
     "text": [
      "RMSE score through Decision tree regression :  0.3480130019789579\n"
     ]
    }
   ],
   "source": [
    "from sklearn.tree import DecisionTreeRegressor\n",
    "dt= DecisionTreeRegressor()\n",
    "dt.fit(train_scale,y_train)\n",
    "dt_pred=dt.predict(test_scale)\n",
    "print('RMSE score through Decision tree regression : ',np.sqrt(metrics.mean_squared_error(y_test,np.round(dt_pred,decimals=1))))"
   ]
  },
  {
   "cell_type": "markdown",
   "metadata": {},
   "source": [
    "### RANDOM FOREST"
   ]
  },
  {
   "cell_type": "code",
   "execution_count": 58,
   "metadata": {},
   "outputs": [
    {
     "name": "stderr",
     "output_type": "stream",
     "text": [
      "C:\\Users\\Hemanth\\Anaconda3\\lib\\site-packages\\sklearn\\ensemble\\forest.py:246: FutureWarning: The default value of n_estimators will change from 10 in version 0.20 to 100 in 0.22.\n",
      "  \"10 in version 0.20 to 100 in 0.22.\", FutureWarning)\n"
     ]
    },
    {
     "name": "stdout",
     "output_type": "stream",
     "text": [
      "RMSE score through Random Forest :  0.2722448099902795\n"
     ]
    }
   ],
   "source": [
    "from sklearn.ensemble import RandomForestRegressor\n",
    "rf= RandomForestRegressor()\n",
    "rf.fit(train_scale,y_train)\n",
    "rf_pred=rf.predict(test_scale)\n",
    "print('RMSE score through Random Forest : ',np.sqrt(metrics.mean_squared_error(y_test,np.round(rf_pred,decimals=1))))\n"
   ]
  },
  {
   "cell_type": "code",
   "execution_count": 59,
   "metadata": {},
   "outputs": [
    {
     "data": {
      "image/png": "[encoded data removed]",
      "text/plain": [
       "<Figure size 600x400 with 1 Axes>"
      ]
     },
     "metadata": {
      "image/png": {
       "height": 368,
       "width": 525
      },
      "needs_background": "light"
     },
     "output_type": "display_data"
    }
   ],
   "source": [
    "import matplotlib.pyplot as plt\n",
    "plt.figure(figsize=(6,4),dpi=100)\n",
    "plt.plot(y_test,np.round(rf_pred,decimals=1),'*')\n",
    "plt.xlabel('Actual Value',size=11)\n",
    "plt.ylabel('Predicted Value using Random Forest',size=11)\n",
    "plt.show()"
   ]
  },
  {
   "cell_type": "code",
   "execution_count": 60,
   "metadata": {},
   "outputs": [
    {
     "data": {
      "image/png": "[encoded data removed]",
      "text/plain": [
       "<Figure size 600x400 with 1 Axes>"
      ]
     },
     "metadata": {
      "image/png": {
       "height": 367,
       "width": 525
      },
      "needs_background": "light"
     },
     "output_type": "display_data"
    }
   ],
   "source": [
    "plt.figure(figsize=(6,4),dpi=100)\n",
    "plt.plot(y_test,rf_pred,'*',label='Random forest')\n",
    "plt.plot(y_test,dt_pred,'o',color='red',label='Decision tree',marker='s',markersize=4)\n",
    "plt.legend()\n",
    "plt.xlabel('Actual Value',size=11)\n",
    "plt.ylabel('Predicted Value',size=11)\n",
    "plt.show()"
   ]
  },
  {
   "cell_type": "markdown",
   "metadata": {},
   "source": [
    "### XG BOOST REGRESSOR"
   ]
  },
  {
   "cell_type": "code",
   "execution_count": 81,
   "metadata": {},
   "outputs": [
    {
     "name": "stderr",
     "output_type": "stream",
     "text": [
      "C:\\Users\\Hemanth\\Anaconda3\\lib\\site-packages\\xgboost\\core.py:587: FutureWarning: Series.base is deprecated and will be removed in a future version\n",
      "  if getattr(data, 'base', None) is not None and \\\n"
     ]
    },
    {
     "name": "stdout",
     "output_type": "stream",
     "text": [
      "RMSE score through XGBoost :  0.26668338639808453\n",
      "R square value using XGBoost 0.9688974390273124\n",
      "Variance covered by XG Boost Regression :  0.9678379795043588\n"
     ]
    }
   ],
   "source": [
    "import xgboost\n",
    "xgb = xgboost.XGBRegressor(n_estimators=100, learning_rate=0.3, max_depth=4)\n",
    "xgb.fit(train_scale,y_train)\n",
    "xgb_pred= xgb.predict(test_scale)\n",
    "print('RMSE score through XGBoost : ',np.sqrt(metrics.mean_squared_error(y_test,np.round(xgb_pred,decimals=1))))\n",
    "print('R square value using XGBoost',r2_score(y_test,xgb_pred))\n",
    "print('Variance covered by XG Boost Regression : ',explained_variance_score(xgb_pred,y_test))"
   ]
  },
  {
   "cell_type": "markdown",
   "metadata": {},
   "source": [
    "### Learning rate and max depth re taken in such a way that it gives the least rmse score. Mutliple scores are obtained by trial and error method."
   ]
  },
  {
   "cell_type": "code",
   "execution_count": 82,
   "metadata": {},
   "outputs": [
    {
     "data": {
      "image/png": "[encoded data removed]",
      "text/plain": [
       "<Figure size 600x400 with 1 Axes>"
      ]
     },
     "metadata": {
      "image/png": {
       "height": 368,
       "width": 525
      },
      "needs_background": "light"
     },
     "output_type": "display_data"
    }
   ],
   "source": [
    "plt.figure(figsize=(6,4),dpi=100)\n",
    "plt.plot(y_test,np.round(xgb_pred,decimals=1),'*')\n",
    "plt.xlabel('Actual Value',size=11)\n",
    "plt.ylabel('Predicted Value using Random Forest',size=11)\n",
    "plt.show()"
   ]
  },
  {
   "cell_type": "markdown",
   "metadata": {},
   "source": [
    "### Comparison among different models predicting the continous variable"
   ]
  },
  {
   "cell_type": "code",
   "execution_count": 83,
   "metadata": {},
   "outputs": [
    {
     "name": "stdout",
     "output_type": "stream",
     "text": [
      "RMSE score through Linear Regression :  0.587465175801052\n",
      "R square value using Linear Regression 0.8472025815048616\n",
      "Variance covered by Linear Regression :  0.824414467216428\n",
      "\n",
      "\n",
      "RMSE score through Decision tree Regression :  0.3481249444448844\n",
      "R square value using Decision Tree Regression 0.9466133393052085\n",
      "Variance covered by Decision Tree Regression :  0.9462837213330394\n",
      "\n",
      "\n",
      "RMSE score through Random Forest :  0.2722448099902795\n",
      "R square value using Random Forest 0.9675662065684767\n",
      "Variance covered by Random Forest :  0.9667326770569147\n",
      "\n",
      "\n",
      "RMSE score through XGBoost :  0.26668338639808453\n",
      "R square value using XGBoost 0.9688974390273124\n",
      "Variance covered by XG Boost Regression :  0.9678379795043588\n"
     ]
    }
   ],
   "source": [
    "print('RMSE score through Linear Regression : ',np.sqrt(metrics.mean_squared_error(y_test,lr_pred)))\n",
    "print('R square value using Linear Regression',r2_score(y_test,np.round(lr_pred,decimals=1)))\n",
    "print('Variance covered by Linear Regression : ',explained_variance_score(lr_pred,y_test))\n",
    "print('\\n')\n",
    "print('RMSE score through Decision tree Regression : ',np.sqrt(metrics.mean_squared_error(y_test,dt_pred)))\n",
    "print('R square value using Decision Tree Regression',r2_score(y_test,np.round(dt_pred,decimals=1)))\n",
    "print('Variance covered by Decision Tree Regression : ',explained_variance_score(dt_pred,y_test))\n",
    "print('\\n')\n",
    "print('RMSE score through Random Forest : ',np.sqrt(metrics.mean_squared_error(y_test,np.round(rf_pred,decimals=1))))\n",
    "print('R square value using Random Forest',r2_score(y_test,rf_pred))\n",
    "print('Variance covered by Random Forest : ',explained_variance_score(rf_pred,y_test))\n",
    "print('\\n')\n",
    "print('RMSE score through XGBoost : ',np.sqrt(metrics.mean_squared_error(y_test,np.round(xgb_pred,decimals=1))))\n",
    "print('R square value using XGBoost',r2_score(y_test,xgb_pred))\n",
    "print('Variance covered by XG Boost Regression : ',explained_variance_score(xgb_pred,y_test))"
   ]
  },
  {
   "cell_type": "markdown",
   "metadata": {},
   "source": [
    "### Conclusons\n",
    "\n",
    ">- XG Boost regressor has the least rmse score which indirectly tells us that it is the most accurte model among the 4 models\n",
    ">- R square value and Variance explained are almost equal\n",
    ">- Variance explained by XG Boost regressor and Random forest are amost equal\n",
    ">- Generally, Random Forest is expected to have lower RMSE than a Decsion Tree which is evident in our case study\n",
    ">- Due to the assumptions of Linear Regression algorithm which is a bit offset from the real case scenaro, Linear Regression has under performed"
   ]
  },
  {
   "cell_type": "code",
   "execution_count": null,
   "metadata": {},
   "outputs": [],
   "source": []
  }
 ],
 "metadata": {
  "kernelspec": {
   "display_name": "Python 3",
   "language": "python",
   "name": "python3"
  },
  "language_info": {
   "codemirror_mode": {
    "name": "ipython",
    "version": 3
   },
   "file_extension": ".py",
   "mimetype": "text/x-python",
   "name": "python",
   "nbconvert_exporter": "python",
   "pygments_lexer": "ipython3",
   "version": "3.7.1"
  }
 },
 "nbformat": 4,
 "nbformat_minor": 1
}
